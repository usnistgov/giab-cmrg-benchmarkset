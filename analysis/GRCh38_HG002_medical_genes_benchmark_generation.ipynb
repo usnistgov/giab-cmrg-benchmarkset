{
 "cells": [
  {
   "cell_type": "markdown",
   "metadata": {},
   "source": [
    "#  Generating GRCh38 Medical Genes Benchmark\n",
    "\n",
    "This notebook details the steps to generate the challenging medically relevant genes benchmark. All paths are from the top level directory of the repository and large dependency files that can not be stored in a git repo are indicated with URL in comments.\n",
    "\n",
    "\n",
    "1) Look up coordinates for gene symbols in ENSEMBLE GRCh38 Human Genes v100 of the union of Mandelker et al Supplementary Table 13, COSMIC Cancer Gene Census, Steve Lincoln Medical Gene Lists -- GRCh38_lookup_MRG_symbol_coordinates_ENSEMBL.R\n",
    "\n",
    "2) Find overlap of genes with HG002 v4.2.1, then add slop and find overlap with HG002 hifiasm v0.11 dip.bed\n",
    "\n",
    "3) Find genes that were < 90% overlap with GRCh38 v4.2.1 and fully covered with overlapping segdups and flanking sequence in HG002 hifiasm v0.11 GRCh38 dip.bed, find union of GRCh37 and GRCh38 MRG lists, then add genes that are unique to GRCh37 but still fully fully covered with overlapping segdups and flanking sequence in HG002 hifiasm v0.11 GRCh38 dip.bed -- find_coordinates_of_MRG_GRCh37_GRCh38_union.R\n",
    "\n",
    "4) Use coordinates for benchmark then remove \n",
    "    - homopolymers and imperfect homopolymers > 20\n",
    "    - SVs with 50bp flanking and overlapping tandem repeats\n",
    "    - hifiasm error\n",
    "    - GRCh38 GAPs\n",
    "    - Remove partially covered tandem repeats\n",
    "    - Remove MHC region\n",
    "    \n",
    "5) Generate stratification files for Complex Variants in Tandem Repeats\n",
    "    - GRCh38_MRG_stratification_ComplexVar_in_TR.bed"
   ]
  },
  {
   "cell_type": "markdown",
   "metadata": {},
   "source": [
    "## Find overlap with v4.2.1 in ENSEMBL gene annotations"
   ]
  },
  {
   "cell_type": "code",
   "execution_count": null,
   "metadata": {},
   "outputs": [],
   "source": [
    "## HG002_GRCh38_1_22_v4.2.1_benchmark_noinconsistent.bed is from https://ftp-trace.ncbi.nlm.nih.gov/ReferenceSamples/giab/release/AshkenazimTrio/HG002_NA24385_son/NISTv4.2.1/GRCh38/HG002_GRCh38_1_22_v4.2.1_benchmark_noinconsistent.bed\n",
    "\n",
    "## GRCh38_ENSEMBL_MRG_coordinates.bed is the output of GRCh38_lookup_MRG_symbol_coordinates_ENSEMBL.R\n",
    "\n",
    "# Need to then apply https://gitlab.nist.gov/gitlab/nolson/mrg-bench-manuscript/-/blob/master/data/gene_coords/ensembl_coords/selected_coordinates_for_duplicated_gene_symbol_entries.tsv which yields https://gitlab.nist.gov/gitlab/nolson/mrg-bench-manuscript/-/blob/master/data/gene_coords/unsorted/GRCh38_mrg_bench_gene.bed\n",
    "\n",
    "bedtools coverage -a data/manually_created_files/GRCh38_mrg_full_gene.bed -b data/v4.2.1_benchmark_regions/HG002_GRCh38_1_22_v4.2.1_benchmark_noinconsistent.bed | cut -f1,2,3,4,7,8  > workflow/smallvar_benchmark/GRCh38/GRCh38_mrg_full_gene_coordinates_overlap_with_v4.2.1_benchmark.bed\n"
   ]
  },
  {
   "cell_type": "markdown",
   "metadata": {},
   "source": [
    "## Create flanking sequence bed for MRG candidates"
   ]
  },
  {
   "cell_type": "code",
   "execution_count": null,
   "metadata": {},
   "outputs": [],
   "source": [
    "bedtools slop -i data/manually_created_files/GRCh38_mrg_full_gene.bed -g resources/human.b38.genome -b 20000 > workflow/smallvar_benchmark/GRCh38/GRCh38_mrg_full_gene_coordinates_slop20000bp.bed\n"
   ]
  },
  {
   "cell_type": "markdown",
   "metadata": {},
   "source": [
    "## Find breaks in dip.bed in MRG candidates"
   ]
  },
  {
   "cell_type": "code",
   "execution_count": null,
   "metadata": {},
   "outputs": [],
   "source": [
    "## HG002v11-align2-GRCh38.dip.bed is from https://ftp-trace.ncbi.nlm.nih.gov/ReferenceSamples/giab/data/AshkenazimTrio/analysis/NIST_HG002_medical_genes_benchmark_v0.02/GRCh38/hifiasm_v0.11/HG002v11-align2-GRCh38.dip.bed\n",
    "\n",
    "## HG002v11-align2-GRCh38.dip_check_for_breaks.bed is generated as HG002v11-align2-GRCh38.dip.bed chrom, start, start+1\n",
    "\n",
    "python scripts/find_overlap_per_gene.py --input_benchmark data/manually_created_files/HG002v11-align2-GRCh38.dip_check_for_breaks.bed --input_genes workflow/smallvar_benchmark/GRCh38/GRCh38_mrg_full_gene_coordinates_slop20000bp.bed --output  workflow/smallvar_benchmark/GRCh38/GRCh38_mrg_full_gene_coordinates_slop20000bp_check_for_breaks_in_dip.bed"
   ]
  },
  {
   "cell_type": "markdown",
   "metadata": {},
   "source": [
    "## Find coordinates of ENSEMBL gene annotations with flanking sequence and overlapping segdups"
   ]
  },
  {
   "cell_type": "code",
   "execution_count": null,
   "metadata": {},
   "outputs": [],
   "source": [
    "python scripts/expand_gene_coordinates_with_flank_and_overlapping_segdups_GRCh38.py --input_genes workflow/smallvar_benchmark/GRCh38/GRCh38_mrg_full_gene_coordinates_slop20000bp.bed --output workflow/smallvar_benchmark/GRCh38/GRCh38_mrg_full_gene_coordinates_slop20000bp_flanking_and_segdups_coordinates.bed"
   ]
  },
  {
   "cell_type": "markdown",
   "metadata": {},
   "source": [
    "## Append gene names "
   ]
  },
  {
   "cell_type": "code",
   "execution_count": null,
   "metadata": {},
   "outputs": [],
   "source": [
    "# Add column from GRCh38_mrg_full_gene_coordinates_slop20000bp.bed to GRCh38_mrg_full_gene_coordinates_slop20000bp_flanking_and_segdups_coordinates.bed to create GRCh38_mrg_full_gene_coordinates_slop20000bp_flanking_and_segdups_coordinates_w_gene_names.bed\n",
    "\n",
    "cat workflow/smallvar_benchmark/GRCh38/GRCh38_mrg_full_gene_coordinates_slop20000bp.bed | cut -f4 | paste workflow/smallvar_benchmark/GRCh38/GRCh38_mrg_full_gene_coordinates_slop20000bp_flanking_and_segdups_coordinates.bed - > workflow/smallvar_benchmark/GRCh38/GRCh38_mrg_full_gene_coordinates_slop20000bp_flanking_and_segdups_coordinates_w_gene_names.bed \n",
    "\n"
   ]
  },
  {
   "cell_type": "markdown",
   "metadata": {},
   "source": [
    "### Sort HG002v11-align2-GRCh38.dip.bed"
   ]
  },
  {
   "cell_type": "code",
   "execution_count": null,
   "metadata": {},
   "outputs": [],
   "source": [
    "cat data/hifiasm_dipcall_output/HG002v11-align2-GRCh38.dip.bed | sed 's/^chr//' | sort -k1,1 -k2,2n | sed 's/^/chr/' > workflow/smallvar_benchmark/GRCh38/HG002v11-align2-GRCh38.dip_sorted.bed"
   ]
  },
  {
   "cell_type": "markdown",
   "metadata": {},
   "source": [
    "## Find overlap of HG002 GRCh38 hifiasm v0.11 of ENSEMBL gene annotations with flanking sequence and overlapping segdups"
   ]
  },
  {
   "cell_type": "code",
   "execution_count": null,
   "metadata": {},
   "outputs": [],
   "source": [
    "bedtools coverage -a workflow/smallvar_benchmark/GRCh38/GRCh38_mrg_full_gene_coordinates_slop20000bp_flanking_and_segdups_coordinates_w_gene_names.bed -b workflow/smallvar_benchmark/GRCh38/HG002v11-align2-GRCh38.dip_sorted.bed | cut -f1,2,3,4,7,8 > workflow/smallvar_benchmark/GRCh38/GRCh38_mrg_full_gene_coordinates_slop20000bp_flanking_and_segdups_coordinates_w_gene_names_overlap_with_HG002v11-align2-GRCh38.dip_sorted.bed"
   ]
  },
  {
   "cell_type": "markdown",
   "metadata": {},
   "source": [
    "## Create HG002_GRCh38_overlap_v4.2.1_and_hifiasm.tsv "
   ]
  },
  {
   "cell_type": "code",
   "execution_count": null,
   "metadata": {},
   "outputs": [],
   "source": [
    "#Combine chrom, start, end, gene name, bp_covered, frac_covered columns of GRCh38_mrg_full_gene_coordinates_overlap_with_v4.2.1_benchmark.bed, appending columns 5 and 6 of GRCh38_mrg_full_gene_coordinates_slop20000bp_flanking_and_segdups_coordinates_w_gene_names_overlap_with_HG002v11-align2-GRCh38.dip_sorted.bed, then append column 5 of GRCh38_mrg_full_gene_coordinates_slop20000bp_check_for_breaks_in_dip.bed \n",
    "\n",
    "#GRCh38_overlap_v4.2.1_and_hifiasm.tsv column names are chrom, start, end, gene, bp_overlap_v4.2.1, percent_overlap_v4.2.1, bp_flanking_plus_segdups_overlap_hifiasm, percent_flanking_plus_segdups_overlap_hifiasm, flanking_breaks_in_dip_bed\n",
    "\n",
    "cat workflow/smallvar_benchmark/GRCh38/GRCh38_mrg_full_gene_coordinates_slop20000bp_flanking_and_segdups_coordinates_w_gene_names_overlap_with_HG002v11-align2-GRCh38.dip_sorted.bed | cut -f5,6 | paste workflow/smallvar_benchmark/GRCh38/GRCh38_mrg_full_gene_coordinates_overlap_with_v4.2.1_benchmark.bed - > workflow/smallvar_benchmark/GRCh38/GRCh38_mrg_full_gene_coordinates_overlap_with_v4.2.1_benchmark_overlap_hifiasm.bed\n",
    "\n",
    "\n",
    "cat workflow/smallvar_benchmark/GRCh38/GRCh38_mrg_full_gene_coordinates_slop20000bp_check_for_breaks_in_dip.bed | cut -f5 | paste workflow/smallvar_benchmark/GRCh38/GRCh38_mrg_full_gene_coordinates_overlap_with_v4.2.1_benchmark_overlap_hifiasm.bed - > workflow/smallvar_benchmark/GRCh38/GRCh38_overlap_v4.2.1_and_hifiasm_temp.bed\n",
    "\n",
    "cat data/manually_created_files/GRCh38_overlap_v4.2.1_and_hifiasm_header.tsv > workflow/smallvar_benchmark/GRCh38/GRCh38_overlap_v4.2.1_and_hifiasm.tsv\n",
    "\n",
    "cat workflow/smallvar_benchmark/GRCh38/GRCh38_overlap_v4.2.1_and_hifiasm_temp.bed >> workflow/smallvar_benchmark/GRCh38/GRCh38_overlap_v4.2.1_and_hifiasm.tsv"
   ]
  },
  {
   "cell_type": "markdown",
   "metadata": {},
   "source": [
    "## Use find_coordinates_of_MRG_GRCh37_GRCh38_union.R to generate HG002_GRCh38_CMRG_coordinates.bed \n",
    "\n",
    "NOTE: find_coordinates_of_MRG_GRCh37_GRCh38_union.R depends on the creation of workflow/smallvar_benchmark/GRCh37/GRCh37_overlap_v4.2.1_and_hifiasm.tsv as detailed in analysis/GRCh37_HG002_medical_genes_benchmark_generation.ipynb\n"
   ]
  },
  {
   "cell_type": "markdown",
   "metadata": {},
   "source": [
    "## Run bedtools merge"
   ]
  },
  {
   "cell_type": "code",
   "execution_count": null,
   "metadata": {},
   "outputs": [],
   "source": [
    "bedtools merge -i workflow/smallvar_benchmark/GRCh38/HG002_GRCh38_CMRG_coordinates.bed > workflow/smallvar_benchmark/GRCh38/HG002_GRCh38_CMRG_coordinates_temp_bedtools_merge.bed"
   ]
  },
  {
   "cell_type": "markdown",
   "metadata": {},
   "source": [
    "# From these genes to be benchmarked remove the following regions that we exclude from the diploid assembly based variant calls:\n",
    "\n",
    "    - homopolymers and imperfect homopolymers > 20\n",
    "    - SVs with 50bp flanking and overlapping tandem repeats\n",
    "    - hifiasm error\n",
    "    - GRCh38 GAPs\n",
    "    - Remove partially covered tandem repeats\n",
    "\n"
   ]
  },
  {
   "cell_type": "markdown",
   "metadata": {},
   "source": [
    "## Generate GRCh38_SimpleRepeat_homopolymer_gt20.bed and GRCh38_SimpleRepeat_imperfecthomopolgt20_slop5.bed\n",
    "\n",
    "## NOTE: This is included for documentation of workflow purposes and is not recommended to be run. The output files are available in workflow/cmrg_stratifications/GRCh38/ and used in the rest of this notebook from that location"
   ]
  },
  {
   "cell_type": "code",
   "execution_count": null,
   "metadata": {},
   "outputs": [],
   "source": [
    "# findSimpleRegions_quad.py is from: https://opendata.nist.gov/pdrsrv/mds2-2190/GRCh38/LowComplexity/findSimpleRegions_quad.py\n",
    "\n",
    "# NOTE: GCA_000001405.15_GRCh38_no_alt_analysis_set.fasta can be retrieved from https://ftp-trace.ncbi.nlm.nih.gov/ReferenceSamples/giab/release/references/GRCh38/GCA_000001405.15_GRCh38_no_alt_analysis_set.fasta.gz\n",
    "\n",
    "python scripts/findSimpleRegions_quad.py -p 20 -d 100000 -t 100000 -q 100000 resources/GCA_000001405.15_GRCh38_no_alt_analysis_set.fasta workflow/cmrg_stratifications/GRCh38/GRCh38_SimpleRepeat_p20.bed\n",
    "\n",
    "sed ‘s/^chr//’ workflow/cmrg_stratifications/GRCh38/GRCh38_SimpleRepeat_p20.bed | grep “^[0-9XY]” | grep -v ‘_’ | sed ‘s/^X/23/;s/^Y/24/’ | sort -k1,1n -k2,2n -k3,3n | sed ‘s/^23/X/;s/^24/Y/;s/^/chr/’ | bgzip -c > workflow/cmrg_stratifications/GRCh38/GRCh38_SimpleRepeat_homopolymer_gt20.bed.gz\n",
    "\n",
    "python scripts/findSimpleRegions_quad.py -p 3 -d 100000 -t 100000 -q 100000 resources/GCA_000001405.15_GRCh38_no_alt_analysis_set.fasta workflow/cmrg_stratifications/GRCh38/GRCh38_SimpleRepeat_p3.bed\n",
    "\n",
    "grep ‘unit=C’ workflow/cmrg_stratifications/GRCh38/GRCh38_SimpleRepeat_p3.bed | mergeBed -i stdin -d 1 | awk ‘$3-$2>20’ > workflow/cmrg_stratifications/GRCh38/GRCh38_SimpleRepeat_imperfecthomopolgt20_C.bed\n",
    "\n",
    "grep ‘unit=G’ workflow/cmrg_stratifications/GRCh38/GRCh38_SimpleRepeat_p3.bed | mergeBed -i stdin -d 1 | awk ‘$3-$2>20’ > workflow/cmrg_stratifications/GRCh38/GRCh38_SimpleRepeat_imperfecthomopolgt20_G.bed\n",
    "\n",
    "grep ‘unit=A’ workflow/cmrg_stratifications/GRCh38/GRCh38_SimpleRepeat_p3.bed | mergeBed -i stdin -d 1 | awk ‘$3-$2>20’ > workflow/cmrg_stratifications/GRCh38/GRCh38_SimpleRepeat_imperfecthomopolgt20_A.bed\n",
    "\n",
    "grep ‘unit=T’ workflow/cmrg_stratifications/GRCh38/GRCh38_SimpleRepeat_p3.bed | mergeBed -i stdin -d 1 | awk ‘$3-$2>20’ > workflow/cmrg_stratifications/GRCh38/GRCh38_SimpleRepeat_imperfecthomopolgt20_T.bed\n",
    "\n",
    "multiIntersectBed -i workflow/cmrg_stratifications/GRCh38/GRCh38_SimpleRepeat_imperfecthomopolgt20_C.bed \\\n",
    "\tworkflow/cmrg_stratifications/GRCh38/GRCh38_SimpleRepeat_imperfecthomopolgt20_G.bed \\\n",
    "\tworkflow/cmrg_stratifications/GRCh38/GRCh38_SimpleRepeat_imperfecthomopolgt20_A.bed \\\n",
    "\tworkflow/cmrg_stratifications/GRCh38/GRCh38_SimpleRepeat_imperfecthomopolgt20_T.bed |\n",
    "    sed ‘s/^chr//’ |\n",
    "    cut -f1-3 | grep “^[0-9XY]” | grep -v ‘_’ |\n",
    "    sed ‘s/^/chr/’ |\n",
    "\tslopBed -i stdin -b 5 -g resources/human.hg38.genome |\n",
    "    sed ‘s/^chr//’ |\n",
    "\tsed ‘s/^X/23/;s/^Y/24/’ |\n",
    "\tsort -k1,1n -k2,2n -k3,3n |\n",
    "\tsed ‘s/^23/X/;s/^24/Y/;s/^/chr/’ |\n",
    "\tmergeBed -i stdin |\n",
    "\tbgzip -c > workflow/cmrg_stratifications/GRCh38/GRCh38_SimpleRepeat_imperfecthomopolgt20_slop5.bed.gz"
   ]
  },
  {
   "cell_type": "markdown",
   "metadata": {},
   "source": [
    "## Remove homopolymers > 20bp"
   ]
  },
  {
   "cell_type": "code",
   "execution_count": null,
   "metadata": {},
   "outputs": [],
   "source": [
    "bedtools subtract -a workflow/smallvar_benchmark/GRCh38/HG002_GRCh38_CMRG_coordinates_temp_bedtools_merge.bed -b workflow/cmrg_stratifications/GRCh38/GRCh38_SimpleRepeat_homopolymer_gt20_slop5.bed.gz > workflow/smallvar_benchmark/GRCh38/HG002_GRCh38_CMRG_coordinates_temp_subtract_GRCh38_SimpleRepeat_homopolymer_gt20_slop5.bed"
   ]
  },
  {
   "cell_type": "markdown",
   "metadata": {},
   "source": [
    "## Remove imperfect homopolymers > 20bp"
   ]
  },
  {
   "cell_type": "code",
   "execution_count": null,
   "metadata": {},
   "outputs": [],
   "source": [
    "bedtools subtract -a workflow/smallvar_benchmark/GRCh38/HG002_GRCh38_CMRG_coordinates_temp_subtract_GRCh38_SimpleRepeat_homopolymer_gt20_slop5.bed -b workflow/cmrg_stratifications/GRCh38/GRCh38_SimpleRepeat_imperfecthomopolgt20_slop5.bed.gz > workflow/smallvar_benchmark/GRCh38/HG002_GRCh38_CMRG_coordinates_temp_subtract_GRCh38_SimpleRepeat_imperfecthomopolgt20_slop5.bed"
   ]
  },
  {
   "cell_type": "markdown",
   "metadata": {},
   "source": [
    "## SVs with 50bp flanking and overlapping tandem repeats"
   ]
  },
  {
   "cell_type": "code",
   "execution_count": null,
   "metadata": {},
   "outputs": [],
   "source": [
    "# HG002v11-align2-GRCh38.dip.vcf.gz is from ftp://ftp-trace.ncbi.nlm.nih.gov/ReferenceSamples/giab/data/AshkenazimTrio/analysis/NIST_HG002_medical_genes_benchmark_v0.01.00/GRCh38/hifiasm_v0.11/HG002v11-align2-GRCh38.dip.vcf.gz\n",
    "\n",
    "# GRCh38_AllTandemRepeatsandHomopolymers_slop5.bed.gz is from ftp://ftp-trace.ncbi.nlm.nih.gov/ReferenceSamples/giab/release/genome-stratifications/v2.0/GRCh38/LowComplexity/GRCh38_AllTandemRepeatsandHomopolymers_slop5.bed.gz\n",
    "\n",
    "gunzip -c data/hifiasm_dipcall_output/HG002v11-align2-GRCh38.dip.vcf.gz | awk 'length($4)>49 || length($5)>49' | awk '{FS=OFS=\"\\t\"} {print $1,$2-1,$2+length($4)}' > workflow/smallvar_benchmark/GRCh38/HG002v11-align2-GRCh38.dip_SVsgt49bp.bed\n",
    "\n",
    "intersectBed -wa -a resources/giab_stratifications/GRCh38_AllTandemRepeatsandHomopolymers_slop5.bed.gz -b workflow/smallvar_benchmark/GRCh38/HG002v11-align2-GRCh38.dip_SVsgt49bp.bed | multiIntersectBed -i stdin workflow/smallvar_benchmark/GRCh38/HG002v11-align2-GRCh38.dip_SVsgt49bp.bed |  awk '{FS=OFS=\"\\t\"} {print $1,$2-50,$3+50}' | mergeBed -i stdin -d 1000 > workflow/smallvar_benchmark/GRCh38/HG002v11-align2-GRCh38.dip_SVsgt49bp_repeatexpanded_slop50_merge1000.bed\n",
    "\n",
    "bedtools subtract -a workflow/smallvar_benchmark/GRCh38/HG002_GRCh38_CMRG_coordinates_temp_subtract_GRCh38_SimpleRepeat_imperfecthomopolgt20_slop5.bed -b workflow/smallvar_benchmark/GRCh38/HG002v11-align2-GRCh38.dip_SVsgt49bp_repeatexpanded_slop50_merge1000.bed > workflow/smallvar_benchmark/GRCh38/HG002_GRCh38_CMRG_coordinates_temp_subtract_SVsgt49bp_repeatexpanded_slop50_merge1000.bed"
   ]
  },
  {
   "cell_type": "markdown",
   "metadata": {},
   "source": [
    "## Remove hifiasm error on chr21"
   ]
  },
  {
   "cell_type": "code",
   "execution_count": null,
   "metadata": {},
   "outputs": [],
   "source": [
    "# GRCh38_hifiasm_error.bed was created through manual curation of clusters of errors identified during evaluation steps of benchmark development\n",
    "\n",
    "bedtools subtract -a workflow/smallvar_benchmark/GRCh38/HG002_GRCh38_CMRG_coordinates_temp_subtract_SVsgt49bp_repeatexpanded_slop50_merge1000.bed -b data/manually_created_files/GRCh38_hifiasm_error.bed > workflow/smallvar_benchmark/GRCh38/HG002_GRCh38_CMRG_coordinates_temp_subtract_hifiasm_error.bed"
   ]
  },
  {
   "cell_type": "markdown",
   "metadata": {},
   "source": [
    "## Remove GRCh38 GAPs"
   ]
  },
  {
   "cell_type": "code",
   "execution_count": null,
   "metadata": {},
   "outputs": [],
   "source": [
    "# GRCh38_MRG_GAPs.bed was created through manual curation of clusters of errors identified during evaluation steps of benchmark development\n",
    "\n",
    "bedtools subtract -a workflow/smallvar_benchmark/GRCh38/HG002_GRCh38_CMRG_coordinates_temp_subtract_hifiasm_error.bed -b data/manually_created_files/GRCh38_MRG_GAPs.bed > workflow/smallvar_benchmark/GRCh38/HG002_GRCh38_CMRG_coordinates_temp_subtract_GRCh38_MRG_GAPs.bed"
   ]
  },
  {
   "cell_type": "markdown",
   "metadata": {},
   "source": [
    "## Sort"
   ]
  },
  {
   "cell_type": "code",
   "execution_count": null,
   "metadata": {},
   "outputs": [],
   "source": [
    "cat workflow/smallvar_benchmark/GRCh38/HG002_GRCh38_CMRG_coordinates_temp_subtract_GRCh38_MRG_GAPs.bed | sed 's/^chr//' | sort -k1,1n -k2,2n | sed 's/^/chr/' > workflow/smallvar_benchmark/GRCh38/HG002_GRCh38_CMRG_coordinates_temp_subtract_GRCh38_MRG_GAPs_sorted.bed"
   ]
  },
  {
   "cell_type": "markdown",
   "metadata": {},
   "source": [
    "## Remove partially covered tandem repeats\n"
   ]
  },
  {
   "cell_type": "code",
   "execution_count": null,
   "metadata": {},
   "outputs": [],
   "source": [
    "complementBed -i workflow/smallvar_benchmark/GRCh38/HG002_GRCh38_CMRG_coordinates_temp_subtract_GRCh38_MRG_GAPs_sorted.bed -g resources/human.b38.genome | intersectBed -wa -a resources/giab_stratifications/GRCh38_AllTandemRepeatsandHomopolymers_slop5.bed.gz -b stdin | subtractBed -a workflow/smallvar_benchmark/GRCh38/HG002_GRCh38_CMRG_coordinates_temp_subtract_GRCh38_MRG_GAPs_sorted.bed -b stdin > workflow/smallvar_benchmark/GRCh38/HG002_GRCh38_CMRG_coordinates_temp_subtract_partial_tandem_repeats.bed"
   ]
  },
  {
   "cell_type": "markdown",
   "metadata": {},
   "source": [
    "## Remove MHC as it is covered in MHC benchmark"
   ]
  },
  {
   "cell_type": "code",
   "execution_count": null,
   "metadata": {},
   "outputs": [],
   "source": [
    "bedtools subtract -a workflow/smallvar_benchmark/GRCh38/HG002_GRCh38_CMRG_coordinates_temp_subtract_partial_tandem_repeats.bed -b resources/giab_stratifications/GRCh38_MHC.bed.gz > workflow/smallvar_benchmark/GRCh38/HG002_GRCh38_difficult_medical_gene_smallvar_benchmark.bed\n",
    "\n",
    "cat workflow/smallvar_benchmark/GRCh38/HG002_GRCh38_difficult_medical_gene_smallvar_benchmark.bed | awk '{sum+=$3-$2} END {print sum}'\n",
    "\n",
    "bedtools intersect -a data/hifiasm_dipcall_output/HG002v11-align2-GRCh38.dip.vcf.gz -b workflow/smallvar_benchmark/GRCh38/HG002_GRCh38_CMRG_coordinates_temp_bedtools_merge.bed -header > workflow/smallvar_benchmark/GRCh38/HG002_GRCh38_difficult_medical_gene_smallvar_benchmark.vcf\n",
    "\n",
    "bgzip workflow/smallvar_benchmark/GRCh38/HG002_GRCh38_difficult_medical_gene_smallvar_benchmark.vcf\n",
    "\n",
    "tabix workflow/smallvar_benchmark/GRCh38/HG002_GRCh38_difficult_medical_gene_smallvar_benchmark.vcf.gz\n",
    "\n",
    "## NOTES:\n",
    "\n",
    "# 1. workflow/smallvar_benchmark/GRCh38/HG002_GRCh38_difficult_medical_gene_smallvar_benchmark.vcf.gz is https://ftp-trace.ncbi.nlm.nih.gov/ReferenceSamples/giab/data/AshkenazimTrio/analysis/NIST_HG002_medical_genes_benchmark_v0.02/GRCh38/HG002_GRCh38_difficult_medical_gene_smallvar_benchmark_v0.02.03.vcf.gz after updates to the headers\n",
    "\n",
    "# 2. workflow/smallvar_benchmark/GRCh38/HG002_GRCh38_difficult_medical_gene_smallvar_benchmark.bed is https://ftp-trace.ncbi.nlm.nih.gov/ReferenceSamples/giab/data/AshkenazimTrio/analysis/NIST_HG002_medical_genes_benchmark_v0.02/GRCh38/HG002_GRCh38_difficult_medical_gene_smallvar_benchmark_v0.02.03.bed"
   ]
  },
  {
   "cell_type": "markdown",
   "metadata": {},
   "source": [
    "## SV benchmark"
   ]
  },
  {
   "cell_type": "code",
   "execution_count": null,
   "metadata": {},
   "outputs": [],
   "source": [
    "# Find SVs MRG benchmark gene coordinates\n",
    "bedtools intersect -a workflow/smallvar_benchmark/GRCh38/HG002v11-align2-GRCh38.dip_SVsgt49bp_repeatexpanded_slop50_merge1000.bed -b workflow/smallvar_benchmark/GRCh38/HG002_GRCh38_CMRG_coordinates_temp_bedtools_merge.bed > workflow/SV_benchmark/GRCh38/HG002v11-align2-GRCh38.dip_SVsgt49bp_repeatexpanded_slop50_merge1000_intersect_MRG_benchmark_coordinates.bed\n",
    "\n",
    "# Subset to SVs only gt49bp \n",
    "gunzip -c data/hifiasm_dipcall_output/HG002v11-align2-GRCh38.dip.vcf.gz | awk '{FS=\"\\t|,\"} {if($1 ~ /^#/ || length($4)-length($5)>49 || length($5)-length($4)>49 || length($6)-length($4)>49) print}' | intersectBed -a workflow/SV_benchmark/GRCh38/HG002v11-align2-GRCh38.dip_SVsgt49bp_repeatexpanded_slop50_merge1000_intersect_MRG_benchmark_coordinates.bed -b stdin -c | awk '$4>0' | cut -f1-3 > workflow/SV_benchmark/GRCh38/HG002v11-align2-GRCh38.dip_SVsgt49bp_repeatexpanded_slop50_merge1000_intersect_MRG_benchmark_coordinates_onlygt49bp.bed \n",
    "\n",
    "# Find isolated SVs  \n",
    "\n",
    "gunzip -c data/hifiasm_dipcall_output/HG002v11-align2-GRCh38.dip.vcf.gz | awk '{FS=\"\\t|,\"} {if($1 ~ /^#/ || length($4)-length($5)>9 || length($5)-length($4)>9 || length($6)-length($4)>9) print}' | intersectBed -a workflow/SV_benchmark/GRCh38/HG002v11-align2-GRCh38.dip_SVsgt49bp_repeatexpanded_slop50_merge1000_intersect_MRG_benchmark_coordinates_onlygt49bp.bed -b stdin -c | awk '$4==1' | cut -f1-3 > workflow/SV_benchmark/GRCh38/HG002v11-align2-GRCh38.dip_SVsgt49bp_repeatexpanded_slop50_merge1000_intersect_MRG_benchmark_coordinates_onlygt49bp_isolated.bed \n",
    "\n",
    "# Find complex SVs  \n",
    "\n",
    "gunzip -c data/hifiasm_dipcall_output/HG002v11-align2-GRCh38.dip.vcf.gz | awk '{FS=\"\\t|,\"} {if($1 ~ /^#/ || length($4)-length($5)>9 || length($5)-length($4)>9 || length($6)-length($4)>9) print}' | intersectBed -a workflow/SV_benchmark/GRCh38/HG002v11-align2-GRCh38.dip_SVsgt49bp_repeatexpanded_slop50_merge1000_intersect_MRG_benchmark_coordinates_onlygt49bp.bed -b stdin -c | awk '$4>1' | cut -f1-3 > workflow/SV_benchmark/GRCh38/HG002v11-align2-GRCh38.dip_SVsgt49bp_repeatexpanded_slop50_merge1000_intersect_MRG_benchmark_coordinates_onlygt49bp_complexSVs.bed \n",
    "\n",
    "# Remove complex SVs from MRG gene candidate coordinates and remove GAPs \n",
    "bedtools subtract -a workflow/smallvar_benchmark/GRCh38/HG002_GRCh38_CMRG_coordinates_temp_bedtools_merge.bed -b workflow/SV_benchmark/GRCh38/HG002v11-align2-GRCh38.dip_SVsgt49bp_repeatexpanded_slop50_merge1000_intersect_MRG_benchmark_coordinates_onlygt49bp_complexSVs.bed | bedtools subtract -a stdin -b data/manually_created_files/GRCh38_MRG_GAPs.bed > workflow/SV_benchmark/GRCh38/HG002_GRCh38_MRG_draft_SV_benchmark_temp.bed\n",
    "\n",
    "#HG002v11-align2-GRCh37.dip_complexindelsgt9bpinRepeats.bed  from the SV benchmark bed:\n",
    "# Find tandem repeats and homopolymers that have multiple indels >9bp, since these can add up to >49bp and should be subtracted from the benchmark SV bed\n",
    "gunzip -c data/hifiasm_dipcall_output/HG002v11-align2-GRCh38.dip.vcf.gz | awk '{FS=\"\\t|,\"} {if($1 ~ /^#/ || length($4)-length($5)>9 || length($5)-length($4)>9 || length($6)-length($4)>9) print}' | intersectBed -a resources/giab_stratifications/GRCh38_AllTandemRepeatsandHomopolymers_slop5.bed.gz -b stdin -c | awk '$4>1' | cut -f1-3 | intersectBed -v -a stdin -b workflow/SV_benchmark/GRCh38/HG002v11-align2-GRCh38.dip_SVsgt49bp_repeatexpanded_slop50_merge1000_intersect_MRG_benchmark_coordinates_onlygt49bp.bed > workflow/SV_benchmark/GRCh38/HG002v11-align2-GRCh38.dip_complexindelsgt9bpinRepeats.bed\n",
    "\n",
    "bedtools subtract -a workflow/SV_benchmark/GRCh38/HG002_GRCh38_MRG_draft_SV_benchmark_temp.bed -b workflow/SV_benchmark/GRCh38/HG002v11-align2-GRCh38.dip_complexindelsgt9bpinRepeats.bed > workflow/SV_benchmark/GRCh38/HG002_GRCh38_MRG_draft_SV_benchmark.bed\n",
    "\n",
    "\n",
    "cat workflow/SV_benchmark/GRCh38/HG002_GRCh38_MRG_draft_SV_benchmark.bed | awk '{sum+=$3-$2} END {print sum}'\n",
    "\n",
    "# Decompose for truvari comparison\n",
    "#vt decompose -s HG002v11-align2-GRCh37.dip.vcf -o HG002v11-align2-GRCh37.dip_decomposed.vcf\n",
    "#python script to remove ambiguous (non-ACTGN) REF\n",
    "\n",
    "gunzip -c data/hifiasm_dipcall_output/HG002v11-align2-GRCh38.dip.vcf.gz > data/hifiasm_dipcall_output/HG002v11-align2-GRCh38.dip.vcf\n",
    "\n",
    "## remove ambiguous (non-ACGTN) in REF field. Adjust path to where you keep this file\n",
    "python scripts/fix_reference_allele.py --input_vcf_file data/hifiasm_dipcall_output/HG002v11-align2-GRCh38.dip.vcf --output_file workflow/SV_benchmark/GRCh38/HG002v11-align2-GRCh38._noambig.dip.vcf\n",
    "\n",
    "## zip for bcftools\n",
    "bgzip -c workflow/SV_benchmark/GRCh38/HG002v11-align2-GRCh38._noambig.dip.vcf > workflow/SV_benchmark/GRCh38/HG002v11-align2-GRCh38._noambig.dip.vcf.gz\n",
    "\n",
    "tabix workflow/SV_benchmark/GRCh38/HG002v11-align2-GRCh38._noambig.dip.vcf.gz\n",
    "\n",
    "## split multiallelic to biallelic\n",
    "#bcftools norm -m- (multiallelic split)\n",
    "\n",
    "bcftools norm -m- -Oz workflow/SV_benchmark/GRCh38/HG002v11-align2-GRCh38._noambig.dip.vcf.gz -o workflow/SV_benchmark/GRCh38/HG002v11-align2-GRCh38._noambig_norm_m.vcf.gz\n",
    "\n",
    "## left align and normalize indels. Adjust to path where your reference.fa is located. \n",
    "#bcftools norm -f  (normalization)\n",
    "\n",
    "bcftools norm -f resources/GCA_000001405.15_GRCh38_no_alt_analysis_set.fa -Oz -o workflow/SV_benchmark/GRCh38/HG002v11-align2-GRCh38._noambig_norm_mf.vcf.gz workflow/SV_benchmark/GRCh38/HG002v11-align2-GRCh38._noambig_norm_m.vcf.gz\n",
    "\n",
    "#bcftools norm -f /Users/jmw7/v4.1_development/HG001/GCA_000001405.15_GRCh38_no_alt_analysis_set.fasta-index/genome.fa -Oz -o workflow/SV_benchmark/GRCh38/HG002v11-align2-GRCh38._noambig_norm_mf.vcf.gz workflow/SV_benchmark/GRCh38/HG002v11-align2-GRCh38._noambig_norm_m.vcf.gz\n",
    "\n",
    "\n",
    "## remove duplicate records\n",
    "#bcftools norm -d  (remove duplicate records)\n",
    "\n",
    "bcftools norm -d none -Oz workflow/SV_benchmark/GRCh38/HG002v11-align2-GRCh38._noambig_norm_mf.vcf.gz -o workflow/SV_benchmark/GRCh38/HG002v11-align2-GRCh38._noambig_norm_mfd.vcf.gz\n",
    "\n",
    "## remove MHC region. Adjust to path where MHC.bed is located. \n",
    "\n",
    "bedtools subtract -header -a workflow/SV_benchmark/GRCh38/HG002v11-align2-GRCh38._noambig_norm_mfd.vcf.gz -b resources/giab_stratifications/GRCh38_MHC.bed.gz | bgzip -c >  workflow/SV_benchmark/GRCh38/HG002v11-align2-GRCh38._noambig_norm_mfd_noMHC.vcf.gz\n",
    "\n",
    "## intersect w/ benchmark bed and subset to >39bp in REF or ALT fields. Adjust to path of benchmark.bed\n",
    "#intersect w/ MRG target regions and subset >39 bp\n",
    "\n",
    "bedtools intersect -header -a workflow/SV_benchmark/GRCh38/HG002v11-align2-GRCh38._noambig_norm_mfd_noMHC.vcf.gz -b workflow/SV_benchmark/GRCh38/HG002_GRCh38_MRG_draft_SV_benchmark.bed | awk '$1 ~ /^#/ || length($4)>39 || length($5)>39' | bgzip -c > workflow/SV_benchmark/GRCh38/HG002v11-align2-GRCh38._noambig_norm_mfd_noMHC_intersectBenchBED_gt39bp.vcf.gz\n",
    "\n",
    "## index vcf, required by truvari\n",
    "tabix -p vcf workflow/SV_benchmark/GRCh38/HG002v11-align2-GRCh38._noambig_norm_mfd_noMHC_intersectBenchBED_gt39bp.vcf.gz\n",
    "\n",
    "\n",
    "# NOTE:  workflow/SV_benchmark/GRCh38/HG002v11-align2-GRCh38._noambig_norm_mfd_noMHC_intersectBenchBED_gt39bp.vcf.gz matches https://ftp-trace.ncbi.nlm.nih.gov/ReferenceSamples/giab/data/AshkenazimTrio/analysis/NIST_HG002_medical_genes_SV_benchmark_v0.01/HG002_GRCh38_difficult_medical_gene_SV_benchmark_v0.01.vcf.gz\n",
    "\n",
    "## Find benchmark variants between 35 and 49 base pairs in size and exclude overlapping tandem repeats plus slop 50bp on either side. Remove these from the benchmark regions bed so that it includes only SVs that are greater than 49 base pairs\n",
    "python scripts/SVs_between_35_50bp.py --input workflow/SV_benchmark/GRCh38/HG002v11-align2-GRCh38._noambig_norm_mfd_noMHC_intersectBenchBED_gt39bp.vcf --output workflow/SV_benchmark/GRCh38/HG002_GRCh38_difficult_medical_gene_SV_benchmark_v0.01.02_SVs_gt34_and_lt_50bp.vcf\n",
    "\n",
    "vcf2bed < workflow/SV_benchmark/GRCh38/HG002_GRCh38_difficult_medical_gene_SV_benchmark_v0.01.02_SVs_gt34_and_lt_50bp.vcf > workflow/SV_benchmark/GRCh38/HG002_GRCh38_difficult_medical_gene_SV_benchmark_v0.01.02_SVs_gt34_and_lt_50bp.bed\n",
    "\n",
    "intersectBed -wa -a resources/giab_stratifications/GRCh38_AllTandemRepeatsandHomopolymers_slop5.bed.gz -b workflow/SV_benchmark/GRCh38/HG002_GRCh38_difficult_medical_gene_SV_benchmark_v0.01.02_SVs_gt34_and_lt_50bp.bed | multiIntersectBed -i stdin workflow/SV_benchmark/GRCh38/HG002_GRCh38_difficult_medical_gene_SV_benchmark_v0.01.02_SVs_gt34_and_lt_50bp.bed |  awk '{FS=OFS=\"\\t\"} {print $1,$2-50,$3+50}' > workflow/SV_benchmark/GRCh38/HG002_GRCh38_difficult_medical_gene_SV_benchmark_v0.01.02_gt34_and_lt_50bp_repeatexpanded_slop50.bed\n",
    "\n",
    "bedtools subtract -a workflow/SV_benchmark/GRCh38/HG002_GRCh38_MRG_draft_SV_benchmark.bed -b workflow/SV_benchmark/GRCh38/HG002_GRCh38_difficult_medical_gene_SV_benchmark_v0.01.02_gt34_and_lt_50bp_repeatexpanded_slop50.bed >  workflow/SV_benchmark/GRCh38/HG002_GRCh38_MRG_draft_SV_benchmark_removed_SVs_gt35bp_and_lt50bp.bed\n",
    "\n",
    "bedtools subtract -a workflow/SV_benchmark/GRCh38/HG002_GRCh38_MRG_draft_SV_benchmark_removed_SVs_gt35bp_and_lt50bp.bed -b /data/manually_created_files/GRCh38_CD4_gaps_slop50.bed >  workflow/SV_benchmark/GRCh38/HG002_GRCh38_difficult_medical_gene_SV_benchmark_v0.01.bed\n"
   ]
  },
  {
   "cell_type": "markdown",
   "metadata": {},
   "source": [
    "## Prepare release benchmark files"
   ]
  },
  {
   "cell_type": "code",
   "execution_count": null,
   "metadata": {},
   "outputs": [],
   "source": [
    "# Steps for creating excluding errors found in curation of the MRG benchmark, in order to create v1.0 bed files for small variants and SVs\n",
    "# Updated 4/27/21 to exclude 50bp on either side of errors and unsure variants found in curation, because sometimes a deletion and overlapping SNVs outside a repeat weren't excluded from benchmark stats. Also, remove \".;\" at beginning of INFO field introduced by svanalyzer svwiden. Produces v1.00.01 small variant and structural variant MRG benchmarks\n",
    "\n",
    "##errors to exclude found in curation of small variants\n",
    "# download tab-delimited file from GRCh37andGRCh38 tab in google doc that that curations for all evaluations as well as common Fps, Fns, and FP_FNs - https://docs.google.com/spreadsheets/d/1Pn7WP78JfWKCO2Df31n_4gzDOwtP69flgDyyjeBS6JE/edit?usp=sharing\n",
    "# create bed with sites curated as unsure or incorrect in the benchmark in GRCh38 coordinates\n",
    "cut -f3,7,9,12,20 data/manually_created_files/combined\\ curation\\ responses\\ from\\ benchmarking\\ with\\ sm\\ variant\\ v0.02.03\\ -\\ GRCh37andGRCh38.tsv | grep 'sure\\|o' | grep -v ^ref | awk '{FS=OFS=\"\\t\"} {print $2, $3-50, $3+length($4)+50}' | sed 's/^chr//' | sort -k1,1n -k2,2n -k3,3n | sed 's/^/chr/' | mergeBed -i stdin -d 100 > workflow/release_benchmark_generation/GRCh38_curation_medicalgene_smallvar_errorsorunsure.bed\n",
    "\n",
    "#expand bed coordinates to completely cover any overlapping homopolymers and tandem repeats\n",
    "intersectBed -wa -a resources/giab_stratifications/GRCh38_AllTandemRepeatsandHomopolymers_slop5.bed.gz -b workflow/release_benchmark_generation/GRCh38_curation_medicalgene_smallvar_errorsorunsure.bed | multiIntersectBed -i stdin workflow/release_benchmark_generation/GRCh38_curation_medicalgene_smallvar_errorsorunsure.bed | mergeBed -i stdin > workflow/release_benchmark_generation/GRCh38_curation_medicalgene_smallvar_errorsorunsure_repeatexpanded.bed\n",
    "\n",
    "\n",
    "cd data/manually_created_files/\n",
    "\n",
    "grep ^Common combined\\ curation\\ responses\\ from\\ benchmarking\\ with\\ sm\\ variant\\ v0.02.03\\ -\\ GRCh37andGRCh38.tsv | cut -f3,7,9,12,20 | grep 'sure\\|o' | grep -v ^ref | awk '{FS=OFS=\"\\t\"} {print $2, $3-50, $3+length($4)+50}' | sed 's/^chr//' | sort -k1,1n -k2,2n -k3,3n | sed 's/^/chr/' | mergeBed -i stdin -d 100 > ../../workflow/release_benchmark_generation/GRCh38_curation_medicalgene_smallvar_errorsorunsure_Commononly.bed\n",
    "\n",
    "grep -v ^Common combined\\ curation\\ responses\\ from\\ benchmarking\\ with\\ sm\\ variant\\ v0.02.03\\ -\\ GRCh37andGRCh38.tsv | cut -f3,7,9,12,20 | grep 'sure\\|o' | grep -v ^ref | grep ^GRCh38 | awk '{FS=OFS=\"\\t\"} {print $2, $3, $3+length($4)}' | sed 's/^chr//' | sort -k1,1n -k2,2n -k3,3n | sed 's/^/chr/' > ../../workflow/release_benchmark_generation/GRCh38_curation_medicalgene_smallvar_errorsorunsure_evaluationonly.bed\n",
    "cd ../..\n",
    "\n",
    "wc -l workflow/release_benchmark_generation/GRCh38_curation_medicalgene_smallvar_errorsorunsure_evaluationonly.bed\n",
    "#      63\n",
    "\n",
    "\n",
    "intersectBed -wa -a resources/giab_stratifications/GRCh38_AllTandemRepeatsandHomopolymers_slop5.bed.gz -b workflow/release_benchmark_generation/GRCh38_curation_medicalgene_smallvar_errorsorunsure_Commononly.bed | multiIntersectBed -i stdin workflow/release_benchmark_generation/GRCh38_curation_medicalgene_smallvar_errorsorunsure_Commononly.bed | mergeBed -i stdin | intersectBed -v -a workflow/release_benchmark_generation/GRCh38_curation_medicalgene_smallvar_errorsorunsure_evaluationonly.bed -b stdin | wc -l\n",
    "# 4\n",
    "\n",
    "\n",
    "##errors to exclude found in complex variants in tandem repeats\n",
    "# From the google doc that contains curations of Fns and FN_FPs after comparing HiCanu2.1 dipcall vcf to MRG small variant benchmark v0.02.03, download xlsx and export as tab-delimited file in excel, since the tab-delimited option wasn't working in google docs - https://docs.google.com/spreadsheets/d/10s0vx8RzK_FmyVYDzNIfeBjsWyCMhOcc2mqjjPP6Jsk/edit?usp=sharing\n",
    "# create bed with sites curated as unsure or incorrect in the benchmark in GRCh38 coordinates\n",
    "cut -f6,7,9,14 data/manually_created_files/HiCanu_2.1_HG002_GRCh38_difficult_medical_gene_smallvar_benchmark_v0.02.03_intersected_subtract_FPs_repeatexpanded_slop50_manual_curation_sites.tsv_manual_curation_sites.txt | grep 'sure\\|o' | grep -v position | awk '{FS=OFS=\"\\t\"} {print $1, $2, $2+length($3)}' | sed 's/^chr//' | sort -k1,1n -k2,2n -k3,3n | sed 's/^/chr/' | mergeBed -i stdin -d 100 > workflow/release_benchmark_generation/GRCh38_curation_medicalgene_smallvar_complexrepeat_errorsorunsure.bed\n",
    "\n",
    "#expand bed coordinates to completely cover any overlapping homopolymers and tandem repeats\n",
    "intersectBed -wa -a resources/giab_stratifications/GRCh38_AllTandemRepeatsandHomopolymers_slop5.bed.gz -b workflow/release_benchmark_generation/GRCh38_curation_medicalgene_smallvar_complexrepeat_errorsorunsure.bed | multiIntersectBed -i stdin workflow/release_benchmark_generation/GRCh38_curation_medicalgene_smallvar_complexrepeat_errorsorunsure.bed | mergeBed -i stdin > workflow/release_benchmark_generation/GRCh38_curation_medicalgene_smallvar_complexrepeat_errorsorunsure_repeatexpanded.bed\n",
    "\n",
    "#used NCBI remap with default parameters to find coordinates on GRCh37, producing GRCh37_curation_medicalgene_smallvar_complexrepeat_errorsorunsure_repeatexpanded.bed renamed from remapped_GRCh38_curation_medicalgene_smallvar_complexrepeat_errorsorunsure_repeatexpanded.bed\n",
    "#exclude these from comparison of HiCanu to GRCh37 MRG benchmark, and curated remaining sites in HiCanu_2.1_HG002_GRCh37_difficult_medical_gene_smallvar_benchmark_v0.02.03_manual_curation_sites.tsv, and all were correct in benchmark, so no additional bed is needed\n",
    "\n",
    "\n",
    "##subtract curated errors from small variant benchmark beds\n",
    "\n",
    "#download GRCh38 v0.02.03 from https://ftp-trace.ncbi.nlm.nih.gov/giab/ftp/data/AshkenazimTrio/analysis/NIST_HG002_medical_genes_benchmark_v0.02/GRCh38/HG002_GRCh38_difficult_medical_gene_smallvar_benchmark_v0.02.03.bed\n",
    "\n",
    "#exclude errors/unsure sites found in SV curation, small variant curation, small variant complex TR curation, and FPs from complex TR comparison\n",
    "subtractBed -a data/manually_created_files/cmrg_draft_benchmarks/HG002_GRCh38_difficult_medical_gene_smallvar_benchmark_v0.02.03.bed -b data/manually_created_files/GRCh38_curation_medicalgene_SV_errorsorunsure_repeatexpanded.bed | subtractBed -a stdin -b workflow/release_benchmark_generation/GRCh38_curation_medicalgene_smallvar_errorsorunsure_repeatexpanded.bed | subtractBed -a stdin -b workflow/release_benchmark_generation/GRCh38_curation_medicalgene_smallvar_complexrepeat_errorsorunsure_repeatexpanded.bed | subtractBed -a stdin -b data/manually_created_files/HiCanu_2.1_HG002_GRCh38_difficult_medical_gene_smallvar_benchmark_v0.02.03_intersected_FPs_repeatexpanded_slop50.bed > workflow/release_benchmark_generation/HG002_GRCh38_difficult_medical_gene_smallvar_benchmark_v1.00.01.bed\n",
    "\n",
    "#Make sure the bed size doesn't decrease more than expected\n",
    "awk '{sum+=$3-$2} END {print sum}' data/manually_created_files/cmrg_draft_benchmarks/HG002_GRCh38_difficult_medical_gene_smallvar_benchmark_v0.02.03.bed \n",
    "#11698514\n",
    "\n",
    "awk '{sum+=$3-$2} END {print sum}' workflow/release_benchmark_generation/HG002_GRCh38_difficult_medical_gene_smallvar_benchmark_v1.00.01.bed \n",
    "#11663057\n",
    "\n",
    "#Make sure the number of variants in the bed don't decrease more than expected\n",
    "intersectBed -a data/manually_created_files/cmrg_draft_benchmarks/HG002_GRCh38_difficult_medical_gene_smallvar_benchmark_v0.02.03.vcf.gz -b data/manually_created_files/cmrg_draft_benchmarks/HG002_GRCh38_difficult_medical_gene_smallvar_benchmark_v0.02.03.bed | wc -l\n",
    "#21567\n",
    "\n",
    "intersectBed -a data/manually_created_files/cmrg_draft_benchmarks/HG002_GRCh38_difficult_medical_gene_smallvar_benchmark_v0.02.03.vcf.gz -b workflow/release_benchmark_generation/HG002_GRCh38_difficult_medical_gene_smallvar_benchmark_v1.00.01.bed | wc -l\n",
    "#21232\n",
    "\n",
    "cp data/manually_created_files/cmrg_draft_benchmarks/HG002_GRCh38_difficult_medical_gene_smallvar_benchmark_v0.02.03.vcf.gz workflow/release_benchmark_generation/HG002_GRCh38_difficult_medical_gene_smallvar_benchmark_v1.00.01.vcf.gz \n",
    "cp data/manually_created_files/cmrg_draft_benchmarks/HG002_GRCh38_difficult_medical_gene_smallvar_benchmark_v0.02.03.vcf.gz.tbi workflow/release_benchmark_generation/HG002_GRCh38_difficult_medical_gene_smallvar_benchmark_v1.00.01.vcf.gz.tbi \n",
    "\n",
    "\n",
    "##subtract curated errors from SV benchmark beds\n",
    "\n",
    "#download GRCh38 v0.01 bed from https://ftp-trace.ncbi.nlm.nih.gov/giab/ftp/data/AshkenazimTrio/analysis/NIST_HG002_medical_genes_SV_benchmark_v0.01/HG002_GRCh38_difficult_medical_gene_SV_benchmark_v0.01.bed\n",
    "#exclude errors/unsure sites found in SV curation\n",
    "subtractBed -a data/manually_created_files/cmrg_draft_benchmarks/HG002_GRCh38_difficult_medical_gene_SV_benchmark_v0.01.bed -b data/manually_created_files/GRCh38_curation_medicalgene_SV_errorsorunsure_repeatexpanded.bed > workflow/release_benchmark_generation/HG002_GRCh38_difficult_medical_gene_SV_benchmark_v0.02.00.bed\n",
    "\n",
    "#Make sure the bed size doesn't decrease more than expected\n",
    "awk '{sum+=$3-$2} END {print sum}' data/manually_created_files/cmrg_draft_benchmarks/HG002_GRCh38_difficult_medical_gene_SV_benchmark_v0.01.bed \n",
    "#11962175\n",
    "awk '{sum+=$3-$2} END {print sum}' workflow/release_benchmark_generation/HG002_GRCh38_difficult_medical_gene_SV_benchmark_v0.02.00.bed \n",
    "#11961541\n",
    "\n",
    "#Make sure the number of variants in the bed don't decrease more than expected\n",
    "intersectBed -a data/manually_created_files/cmrg_draft_benchmarks/HG002_GRCh38_difficult_medical_gene_SV_benchmark_v0.01.vcf.gz -b data/manually_created_files/cmrg_draft_benchmarks/HG002_GRCh38_difficult_medical_gene_SV_benchmark_v0.01.bed | wc -l\n",
    "#218\n",
    "intersectBed -a data/manually_created_files/cmrg_draft_benchmarks/HG002_GRCh38_difficult_medical_gene_SV_benchmark_v0.01.vcf.gz -b workflow/release_benchmark_generation/HG002_GRCh38_difficult_medical_gene_SV_benchmark_v0.02.00.bed | wc -l\n",
    "#217\n",
    "\n",
    "cp data/manually_created_files/cmrg_draft_benchmarks/HG002_GRCh38_difficult_medical_gene_SV_benchmark_v0.01.vcf.gz workflow/release_benchmark_generation/HG002_GRCh38_difficult_medical_gene_SV_benchmark_v0.02.00.vcf.gz \n",
    "cp data/manually_created_files/cmrg_draft_benchmarks/HG002_GRCh38_difficult_medical_gene_SV_benchmark_v0.01.vcf.gz.tbi workflow/release_benchmark_generation/HG002_GRCh38_difficult_medical_gene_SV_benchmark_v0.02.00.vcf.gz.tbi \n",
    "\n",
    "#remove \".;\" at beginning of INFO field introduced by svanalyzer svwiden\n",
    "gunzip -c workflow/release_benchmark_generation/HG002_GRCh38_difficult_medical_gene_SV_benchmark_v0.02.00.vcf.gz  | sed 's/\\.;REPTYPE/REPTYPE/' | bgzip -c > workflow/release_benchmark_generation/HG002_GRCh38_difficult_medical_gene_SV_benchmark_v1.00.01.vcf.gz\n",
    "\n",
    "tabix workflow/release_benchmark_generation/HG002_GRCh38_difficult_medical_gene_SV_benchmark_v1.00.01.vcf.gz\n",
    "\n",
    "cp workflow/release_benchmark_generation/HG002_GRCh38_difficult_medical_gene_SV_benchmark_v0.02.00.bed workflow/release_benchmark_generation/HG002_GRCh38_difficult_medical_gene_SV_benchmark_v1.00.01.bed "
   ]
  },
  {
   "cell_type": "markdown",
   "metadata": {},
   "source": [
    "## Generate stratification files for Complex Variants in Tandem Repeats"
   ]
  },
  {
   "cell_type": "code",
   "execution_count": null,
   "metadata": {},
   "outputs": [],
   "source": [
    "# HG002v11-align2-GRCh38.dip.vcf is from https://drive.google.com/drive/folders/1HvooXPF422YUHJQUkvxaCVYQYWnVcIon\n",
    "# GRCh38_AllTandemRepeatsandHomopolymers_slop5.bed is from https://ftp-trace.ncbi.nlm.nih.gov/ReferenceSamples/giab/release/genome-stratifications/v2.0/GRCh38/LowComplexity/GRCh38_AllTandemRepeatsandHomopolymers_slop5.bed.gz\n",
    "\n",
    "\n",
    "bedtools intersect -c -a GRCh38_AllTandemRepeatsandHomopolymers_slop5.bed -b HG002v11-align2-GRCh38.dip.vcf | awk '$4>1' > HG002_GRCh38_MRG_stratification_ComplexVar_in_TR.bed"
   ]
  },
  {
   "cell_type": "markdown",
   "metadata": {},
   "source": [
    "### Software versions\n",
    "\n",
    "Python 2.7.15 |Anaconda, Inc.| (default, Nov 13 2018, 17:07:45) \n",
    "bedtools v2.27.1\n",
    "tabix (htslib) 1.7\n",
    "bgzip (htslib) 1.7"
   ]
  }
 ],
 "metadata": {
  "kernelspec": {
   "display_name": "Bash",
   "language": "bash",
   "name": "bash"
  },
  "language_info": {
   "codemirror_mode": "shell",
   "file_extension": ".sh",
   "mimetype": "text/x-sh",
   "name": "bash"
  }
 },
 "nbformat": 4,
 "nbformat_minor": 2
}
