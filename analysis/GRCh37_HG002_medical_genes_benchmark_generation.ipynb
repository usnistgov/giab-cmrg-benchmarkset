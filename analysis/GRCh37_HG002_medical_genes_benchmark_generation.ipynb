{
 "cells": [
  {
   "cell_type": "markdown",
   "source": [
    "#  Generating GRCh37 Medical Genes Benchmark\n",
    "This notebook details the steps to generate the challenging medically relevant genes benchmark. All paths are from the top level directory of the repository and large dependency files that can not be stored in a git repo are indicated with URL in comments.\n",
    "\n",
    "## Steps  \n",
    "\n",
    "1. Look up coordinates for gene symbols in ENSEMBLE GRCh37 Human Genes v101 of the union of Mandelker et al Supplementary Table 13, COSMIC Cancer Gene Census, Steve Lincoln Medical Gene Lists -- `scripts\\GRCh37_lookup_MRG_symbol_coordinates_ENSEMBL.R`\n",
    "\n",
    "2. Find overlap of genes with HG002 v4.2.1, then add slop and find overlap with HG002 trio-hifiasm (v0.11) diploid assembly confident regions `HG002v11-align2-GRCh37.dip.bed`\n",
    "\n",
    "3. Find genes with < 90% included bases in v4.2.1 HG002 small variant benchmark and fully covered with overlapping segdups and flanking sequence in HG002 hifiasm v0.11 GRCh37 dip.bed, find union of GRCh37 and GRCh38 MRG lists, then add genes that are unique to GRCh37 but still fully covered with overlapping segdups and flanking sequence in HG002 hifiasm v0.11 GRCh37 dip.bed -- `scripts/find_coordinates_of_MRG_GRCh37_GRCh38_union.R`\n",
    "\n",
    "4. Use coordinates for benchmark then remove\n",
    "    - homopolymers and imperfect homopolymers > 20\n",
    "    - SVs with 50bp flanking and overlapping tandem repeats\n",
    "    - hifiasm error\n",
    "    - GRCh37 GAPs\n",
    "    - Remove partially covered tandem repeats\n",
    "    - Remove MHC region\n",
    "    \n",
    "5. Generate stratification files for Complex Variants in Tandem Repeats\n",
    "    - GRCh37_MRG_stratification_ComplexVar_in_TR.bed"
   ],
   "metadata": {}
  },
  {
   "cell_type": "markdown",
   "source": [
    "## Find overlap with v4.2.1 in ENSEMBL gene annotations"
   ],
   "metadata": {}
  },
  {
   "cell_type": "markdown",
   "source": [
    "`HG002_GRCh37_1_22_v4.2.1_benchmark_noinconsistent.bed` is from https://ftp-trace.ncbi.nlm.nih.gov/ReferenceSamples/giab/release/AshkenazimTrio/HG002_NA24385_son/NISTv4.2.1/GRCh37/HG002_GRCh37_1_22_v4.2.1_benchmark_noinconsistent.bed\n",
    "\n",
    "`GRCh37_ENSEMBL_MRG_coordinates.bed` is the output of `scripts/GRCh37_lookup_MRG_symbol_coordinates_ENSEMBL.R`\n",
    "\n",
    "Need to then apply https://gitlab.nist.gov/gitlab/nolson/mrg-bench-manuscript/-/blob/master/data/gene_coords/ensembl_coords/selected_coordinates_for_duplicated_gene_symbol_entries.tsv which yields https://gitlab.nist.gov/gitlab/nolson/mrg-bench-manuscript/-/blob/master/data/gene_coords/unsorted/GRCh37_mrg_bench_gene.bed"
   ],
   "metadata": {}
  },
  {
   "cell_type": "code",
   "execution_count": null,
   "source": [
    "\n",
    "bedtools coverage \\\n",
    "    -a data/manually_created_files/GRCh37_mrg_full_gene.bed \\\n",
    "    -b data/v4.2.1_benchmark_regions/HG002_GRCh37_1_22_v4.2.1_benchmark_noinconsistent.bed \\\n",
    "    | cut -f1,2,3,4,7,8  \\\n",
    "    > workflow/smallvar_benchmark/GRCh37/GRCh37_mrg_full_gene_coordinates_overlap_with_v4.2.1_benchmark.bed"
   ],
   "outputs": [],
   "metadata": {}
  },
  {
   "cell_type": "markdown",
   "source": [
    "## Create flanking sequence bed for MRG candidates"
   ],
   "metadata": {}
  },
  {
   "cell_type": "code",
   "execution_count": null,
   "source": [
    "bedtools slop \\\n",
    "    -i data/manually_created_files/GRCh37_mrg_full_gene.bed \\\n",
    "    -g resources/human.b37.genome \\\n",
    "    -b 20000 \\\n",
    "    > workflow/smallvar_benchmark/GRCh37/GRCh37_mrg_full_gene_coordinates_slop20000bp.bed\n"
   ],
   "outputs": [],
   "metadata": {}
  },
  {
   "cell_type": "markdown",
   "source": [
    "## Find breaks in dip.bed in MRG candidates"
   ],
   "metadata": {}
  },
  {
   "cell_type": "markdown",
   "source": [
    "`HG002v11-align2-GRCh37.dip.bed` is from https://ftp-trace.ncbi.nlm.nih.gov/ReferenceSamples/giab/data/AshkenazimTrio/analysis/NIST_HG002_medical_genes_benchmark_v0.02/GRCh37/hifiasm_v0.11/HG002v11-align2-GRCh37.dip.bed\n",
    "\n",
    "`HG002v11-align2-GRCh37.dip_check_for_breaks.bed` is generated as HG002v11-align2-GRCh37.dip.bed chrom, start, start+1"
   ],
   "metadata": {}
  },
  {
   "cell_type": "code",
   "execution_count": null,
   "source": [
    "python scripts/find_overlap_per_gene.py \\\n",
    "    --input_benchmark data/manually_created_files/HG002v11-align2-GRCh37.dip_check_for_breaks.bed \\\n",
    "    --input_genes workflow/smallvar_benchmark/GRCh37/GRCh37_mrg_full_gene_coordinates_slop20000bp.bed \\\n",
    "    --output  workflow/smallvar_benchmark/GRCh37/GRCh37_mrg_full_gene_coordinates_slop20000bp_check_for_breaks_in_dip.bed"
   ],
   "outputs": [],
   "metadata": {}
  },
  {
   "cell_type": "markdown",
   "source": [
    "## Find coordinates of ENSEMBL gene annotations with flanking sequence and overlapping segdups"
   ],
   "metadata": {}
  },
  {
   "cell_type": "code",
   "execution_count": null,
   "source": [
    "python scripts/expand_gene_coordinates_with_flank_and_overlapping_segdups_GRCh37.py \\\n",
    "    --input_genes workflow/smallvar_benchmark/GRCh37/GRCh37_mrg_full_gene_coordinates_slop20000bp.bed \\\n",
    "    --output workflow/smallvar_benchmark/GRCh37/GRCh37_mrg_full_gene_coordinates_slop20000bp_flanking_and_segdups_coordinates.bed"
   ],
   "outputs": [],
   "metadata": {}
  },
  {
   "cell_type": "markdown",
   "source": [
    "## Append gene names \n",
    "Adding genes names column from `GRCh37_mrg_full_gene_coordinates_slop20000bp.bed` to `GRCh37_mrg_full_gene_coordinates_slop20000bp_flanking_and_segdups_coordinates.bed`.\n"
   ],
   "metadata": {}
  },
  {
   "cell_type": "code",
   "execution_count": null,
   "source": [
    "cat workflow/smallvar_benchmark/GRCh37/GRCh37_mrg_full_gene_coordinates_slop20000bp.bed \\\n",
    "    | cut -f4 \\\n",
    "    | paste workflow/smallvar_benchmark/GRCh37/GRCh37_mrg_full_gene_coordinates_slop20000bp_flanking_and_segdups_coordinates.bed - \\\n",
    "    > workflow/smallvar_benchmark/GRCh37/GRCh37_mrg_full_gene_coordinates_slop20000bp_flanking_and_segdups_coordinates_w_gene_names.bed "
   ],
   "outputs": [],
   "metadata": {}
  },
  {
   "cell_type": "markdown",
   "source": [
    "## Sort HG002v11-align2-GRCh37.dip.bed"
   ],
   "metadata": {}
  },
  {
   "cell_type": "code",
   "execution_count": null,
   "source": [
    "cat data/hifiasm_dipcall_output/HG002v11-align2-GRCh37.dip.bed \\\n",
    "    | sort -k1,1 -k2,2n \\\n",
    "    > workflow/smallvar_benchmark/GRCh37/HG002v11-align2-GRCh37.dip_sorted.bed"
   ],
   "outputs": [],
   "metadata": {}
  },
  {
   "cell_type": "markdown",
   "source": [
    "## Find overlap of HG002 GRCh37 hifiasm v0.11 of ENSEMBL gene annotations with flanking sequence and overlapping segdups"
   ],
   "metadata": {}
  },
  {
   "cell_type": "code",
   "execution_count": null,
   "source": [
    "bedtools coverage \\\n",
    "    -a workflow/smallvar_benchmark/GRCh37/GRCh37_mrg_full_gene_coordinates_slop20000bp_flanking_and_segdups_coordinates_w_gene_names.bed \\\n",
    "    -b workflow/smallvar_benchmark/GRCh37/HG002v11-align2-GRCh37.dip_sorted.bed \\\n",
    "    | cut -f1,2,3,4,7,8 \\\n",
    "    > workflow/smallvar_benchmark/GRCh37/GRCh37_mrg_full_gene_coordinates_slop20000bp_flanking_and_segdups_coordinates_w_gene_names_overlap_with_HG002v11-align2-GRCh37.dip_sorted.bed\n"
   ],
   "outputs": [],
   "metadata": {}
  },
  {
   "cell_type": "markdown",
   "source": [
    "## Create HG002_GRCh37_overlap_v4.2.1_and_hifiasm.tsv \n",
    "Combine chrom, start, end, gene name, bp_covered, frac_covered columns of `GRCh37_mrg_full_gene_coordinates_overlap_with_v4.2.1_benchmark.bed`, appending columns 5 and 6 of `GRCh37_mrg_full_gene_coordinates_slop20000bp_flanking_and_segdups_coordinates_w_gene_names_overlap_with_HG002v11-align2-GRCh37.dip_sorted.bed`, then append column 5 of `GRCh37_mrg_full_gene_coordinates_slop20000bp_check_for_breaks_in_dip.bed` \n",
    "\n",
    "`GRCh37_overlap_v4.2.1_and_hifiasm.tsv` column names are chrom, start, end, gene, bp_overlap_v4.2.1, percent_overlap_v4.2.1, bp_flanking_plus_segdups_overlap_hifiasm, percent_flanking_plus_segdups_overlap_hifiasm, flanking_breaks_in_dip_bed\n"
   ],
   "metadata": {}
  },
  {
   "cell_type": "code",
   "execution_count": null,
   "source": [
    "cat workflow/smallvar_benchmark/GRCh37/GRCh37_mrg_full_gene_coordinates_slop20000bp_flanking_and_segdups_coordinates_w_gene_names_overlap_with_HG002v11-align2-GRCh37.dip_sorted.bed \\\n",
    "    | cut -f5,6 \\\n",
    "    | paste workflow/smallvar_benchmark/GRCh37/GRCh37_mrg_full_gene_coordinates_overlap_with_v4.2.1_benchmark.bed - \\\n",
    "    > workflow/smallvar_benchmark/GRCh37/GRCh37_mrg_full_gene_coordinates_overlap_with_v4.2.1_benchmark_overlap_hifiasm.bed\n",
    "\n",
    "\n",
    "cat workflow/smallvar_benchmark/GRCh37/GRCh37_mrg_full_gene_coordinates_slop20000bp_check_for_breaks_in_dip.bed \\\n",
    "    | cut -f5 \\\n",
    "    | paste workflow/smallvar_benchmark/GRCh37/GRCh37_mrg_full_gene_coordinates_overlap_with_v4.2.1_benchmark_overlap_hifiasm.bed - \\\n",
    "    > workflow/smallvar_benchmark/GRCh37/GRCh37_overlap_v4.2.1_and_hifiasm_temp.bed\n",
    "\n",
    "cat data/manually_created_files/GRCh37_overlap_v4.2.1_and_hifiasm_header.tsv \\\n",
    "    > workflow/smallvar_benchmark/GRCh37/GRCh37_overlap_v4.2.1_and_hifiasm.tsv\n",
    "\n",
    "cat workflow/smallvar_benchmark/GRCh37/GRCh37_overlap_v4.2.1_and_hifiasm_temp.bed \\\n",
    "    >> workflow/smallvar_benchmark/GRCh37/GRCh37_overlap_v4.2.1_and_hifiasm.tsv\n"
   ],
   "outputs": [],
   "metadata": {}
  },
  {
   "cell_type": "markdown",
   "source": [
    "##  Use find_coordinates_of_MRG_GRCh37_GRCh38_union.R to generate HG002_GRCh37_CMRG_coordinates.bed\n",
    "\n",
    "NOTE: find_coordinates_of_MRG_GRCh37_GRCh38_union.R depends on the creation of workflow/smallvar_benchmark/GRCh37/GRCh38_overlap_v4.2.1_and_hifiasm.tsv as detailed in analysis/GRCh38_HG002_medical_genes_benchmark_generation.ipynb"
   ],
   "metadata": {}
  },
  {
   "cell_type": "markdown",
   "source": [
    "## Run bedtools merge"
   ],
   "metadata": {}
  },
  {
   "cell_type": "code",
   "execution_count": null,
   "source": [
    "bedtools merge \\\n",
    "    -i workflow/smallvar_benchmark/GRCh37/HG002_GRCh37_CMRG_coordinates.bed \\\n",
    "    > workflow/smallvar_benchmark/GRCh37/HG002_GRCh37_CMRG_coordinates_temp_bedtools_merge.bed"
   ],
   "outputs": [],
   "metadata": {}
  },
  {
   "cell_type": "markdown",
   "source": [
    "# From these genes to be benchmarked remove the following regions that we exclude from the diploid assembly based variant calls:\n",
    "\n",
    "    - homopolymers and imperfect homopolymers > 20\n",
    "    - SVs with 50bp flanking and overlapping tandem repeats\n",
    "    - hifiasm error\n",
    "    - GRCh37 GAPs\n",
    "    - Remove partially covered tandem repeats\n",
    "    \n",
    "    "
   ],
   "metadata": {}
  },
  {
   "cell_type": "markdown",
   "source": [
    "## Generate GRCh37_SimpleRepeat_homopolymer_gt20.bed and GRCh37_SimpleRepeat_imperfecthomopolgt20_slop5.bed\n",
    "\n",
    "NOTE: This is included for documentation of workflow purposes and is not recommended to be run. The output files are available in workflow/cmrg_stratifications/GRCh37/ and used in the rest of this notebook from that location\n",
    "\n",
    "`findSimpleRegions_quad.py` is from: https://opendata.nist.gov/pdrsrv/mds2-2190/GRCh38/LowComplexity/findSimpleRegions_quad.py\n",
    "\n",
    "`hs37d5.fa` can be retrieved from https://ftp-trace.ncbi.nlm.nih.gov/ReferenceSamples/giab/release/references/GRCh37/hs37d5.fa.gz"
   ],
   "metadata": {}
  },
  {
   "cell_type": "code",
   "execution_count": null,
   "source": [
    "python scripts/findSimpleRegions_quad.py \\\n",
    "\t-p 20 -d 100000 -t 100000 -q 100000 \\\n",
    "\tresources/hs37d5.fa workflow/cmrg_stratifications/GRCh37/GRCh37_SimpleRepeat_p20.bed\n",
    "\n",
    "cat workflow/cmrg_stratifications/GRCh37/GRCh37_SimpleRepeat_p20.bed \\\n",
    "\t| grep \"^[0-9XY]\" \\\n",
    "\t| grep -v '_' \\\n",
    "\t| sed 's/^X/23/;s/^Y/24/' \\\n",
    "\t| sort -k1,1n -k2,2n -k3,3n \\\n",
    "\t| sed 's/^23/X/;s/^24/Y/' \\\n",
    "\t| slopBed -i stdin -b 5 -g resources/human.b37.genome \\\n",
    "\t| bgzip -c \\\n",
    "\t> workflow/cmrg_stratifications/GRCh37/GRCh37_SimpleRepeat_homopolymer_gt20_slop5.bed.gz\n",
    "\n",
    "python scripts/findSimpleRegions_quad.py \\\n",
    "\t-p 3 -d 100000 -t 100000 -q 100000 \\\n",
    "\tresources/hs37d5.fa workflow/cmrg_stratifications/GRCh37/GRCh37_SimpleRepeat_p3.bed\n",
    "\n",
    "\n",
    "grep 'unit=C' workflow/cmrg_stratifications/GRCh37/GRCh37_SimpleRepeat_p3.bed \\\n",
    "\t| mergeBed -i stdin -d 1 \\\n",
    "\t| awk '$3-$2>20' \\\n",
    "\t> workflow/cmrg_stratifications/GRCh37/GRCh37_SimpleRepeat_imperfecthomopolgt20_C.bed\n",
    "\n",
    "grep 'unit=G' workflow/cmrg_stratifications/GRCh37/GRCh37_SimpleRepeat_p3.bed \\\n",
    "\t| mergeBed -i stdin -d 1 \\\n",
    "\t| awk '$3-$2>20' \\\n",
    "\t> workflow/cmrg_stratifications/GRCh37/GRCh37_SimpleRepeat_imperfecthomopolgt20_G.bed\n",
    "\n",
    "grep 'unit=A' workflow/cmrg_stratifications/GRCh37/GRCh37_SimpleRepeat_p3.bed \\\n",
    "\t| mergeBed -i stdin -d 1 \\\n",
    "\t| awk '$3-$2>20' \\\n",
    "\t> workflow/cmrg_stratifications/GRCh37/GRCh37_SimpleRepeat_imperfecthomopolgt20_A.bed\n",
    "\n",
    "grep 'unit=T' workflow/cmrg_stratifications/GRCh37/GRCh37_SimpleRepeat_p3.bed \\\n",
    "\t| mergeBed -i stdin -d 1 \\\n",
    "\t| awk '$3-$2>20' \\\n",
    "\t> workflow/cmrg_stratifications/GRCh37/GRCh37_SimpleRepeat_imperfecthomopolgt20_T.bed\n",
    "\n",
    "multiIntersectBed -i workflow/cmrg_stratifications/GRCh37/GRCh37_SimpleRepeat_imperfecthomopolgt20_C.bed \\\n",
    "\tworkflow/cmrg_stratifications/GRCh37/GRCh37_SimpleRepeat_imperfecthomopolgt20_G.bed \\\n",
    "\tworkflow/cmrg_stratifications/GRCh37/GRCh37_SimpleRepeat_imperfecthomopolgt20_A.bed \\\n",
    "\tworkflow/cmrg_stratifications/GRCh37/GRCh37_SimpleRepeat_imperfecthomopolgt20_T.bed | \n",
    "    cut -f1-3 | grep \"^[0-9XY]\" | grep -v '_' |\n",
    "\tslopBed -i stdin -b 5 -g resources/human.b37.genome |\n",
    "\tsed 's/^X/23/;s/^Y/24/' | \n",
    "\tsort -k1,1n -k2,2n -k3,3n | \n",
    "\tsed 's/^23/X/;s/^24/Y/' | \n",
    "\tmergeBed -i stdin | \n",
    "\tbgzip -c \\\n",
    "\t> workflow/cmrg_stratifications/GRCh37/GRCh37_SimpleRepeat_imperfecthomopolgt20_slop5.bed.gz"
   ],
   "outputs": [],
   "metadata": {}
  },
  {
   "cell_type": "markdown",
   "source": [
    "## Remove homopolymers > 20bp"
   ],
   "metadata": {}
  },
  {
   "cell_type": "code",
   "execution_count": null,
   "source": [
    "bedtools subtract \\\n",
    "    -a workflow/smallvar_benchmark/GRCh37/HG002_GRCh37_CMRG_coordinates_temp_bedtools_merge.bed \\\n",
    "    -b workflow/cmrg_stratifications/GRCh37/GRCh37_SimpleRepeat_homopolymer_gt20_slop5.bed.gz \\\n",
    "    > workflow/smallvar_benchmark/GRCh37/HG002_GRCh37_CMRG_coordinates_temp_subtract_GRCh37_SimpleRepeat_homopolymer_gt20_slop5.bed"
   ],
   "outputs": [],
   "metadata": {}
  },
  {
   "cell_type": "markdown",
   "source": [
    "## Remove imperfect homopolymers > 20bp"
   ],
   "metadata": {}
  },
  {
   "cell_type": "code",
   "execution_count": null,
   "source": [
    "bedtools subtract \\\n",
    "    -a workflow/smallvar_benchmark/GRCh37/HG002_GRCh37_CMRG_coordinates_temp_subtract_GRCh37_SimpleRepeat_homopolymer_gt20_slop5.bed \\\n",
    "    -b workflow/cmrg_stratifications/GRCh37/GRCh37_SimpleRepeat_imperfecthomopolgt20_slop5.bed.gz \\\n",
    "    > workflow/smallvar_benchmark/GRCh37/HG002_GRCh37_CMRG_coordinates_temp_subtract_GRCh37_SimpleRepeat_imperfecthomopolgt20_slop5.bed"
   ],
   "outputs": [],
   "metadata": {}
  },
  {
   "cell_type": "markdown",
   "source": [
    "## SVs with 50bp flanking and overlapping tandem repeats\n",
    "\n",
    "`HG002v11-align2-GRCh37.dip.vcf.gz` is retrieved from ftp://ftp-trace.ncbi.nlm.nih.gov/ReferenceSamples/giab/data/AshkenazimTrio/analysis/NIST_HG002_medical_genes_benchmark_v0.01.00/GRCh37/hifiasm_v0.11/HG002v11-align2-GRCh37.dip.vcf.gz\n",
    "\n",
    "`GRCh37_AllTandemRepeatsandHomopolymers_slop5.bed.gz` is from ftp://ftp-trace.ncbi.nlm.nih.gov/ReferenceSamples/giab/release/genome-stratifications/v2.0/GRCh38/LowComplexity/GRCh37_AllTandemRepeatsandHomopolymers_slop5.bed.gz"
   ],
   "metadata": {}
  },
  {
   "cell_type": "code",
   "execution_count": null,
   "source": [
    "gunzip \\\n",
    "    -c data/hifiasm_dipcall_output/HG002v11-align2-GRCh37.dip.vcf.gz \\\n",
    "    | awk 'length($4)>49 || length($5)>49' \\\n",
    "    | awk '{FS=OFS=\"\\t\"} {print $1,$2-1,$2+length($4)}' \\\n",
    "    > workflow/smallvar_benchmark/GRCh37/HG002v11-align2-GRCh37.dip_SVsgt49bp.bed\n",
    "\n",
    "intersectBed \\\n",
    "    -wa -a resources/giab_stratifications/GRCh37_AllTandemRepeatsandHomopolymers_slop5.bed.gz \\\n",
    "    -b workflow/smallvar_benchmark/GRCh37/HG002v11-align2-GRCh37.dip_SVsgt49bp.bed \\\n",
    "    | multiIntersectBed -i stdin workflow/smallvar_benchmark/GRCh37/HG002v11-align2-GRCh37.dip_SVsgt49bp.bed \\\n",
    "    |  awk '{FS=OFS=\"\\t\"} {print $1,$2-50,$3+50}' \\\n",
    "    | mergeBed -i stdin -d 1000 \n",
    "    > workflow/smallvar_benchmark/GRCh37/HG002v11-align2-GRCh37.dip_SVsgt49bp_repeatexpanded_slop50_merge1000.bed\n",
    "\n",
    "bedtools subtract \\\n",
    "    -a workflow/smallvar_benchmark/GRCh37/HG002_GRCh37_CMRG_coordinates_temp_subtract_GRCh37_SimpleRepeat_imperfecthomopolgt20_slop5.bed \\\n",
    "    -b workflow/smallvar_benchmark/GRCh37/HG002v11-align2-GRCh37.dip_SVsgt49bp_repeatexpanded_slop50_merge1000.bed \\\n",
    "    > workflow/smallvar_benchmark/GRCh37/HG002_GRCh37_CMRG_coordinates_temp_subtract_SVsgt49bp_repeatexpanded_slop50_merge1000.bed"
   ],
   "outputs": [],
   "metadata": {}
  },
  {
   "cell_type": "markdown",
   "source": [
    "## Remove hifiasm error on chr21\n",
    "`GRCh37_hifiasm_error.bed`\n",
    " was created through manual curation of clusters of errors identified during evaluation steps of benchmark development"
   ],
   "metadata": {}
  },
  {
   "cell_type": "code",
   "execution_count": null,
   "source": [
    "bedtools subtract \\\n",
    "    -a workflow/smallvar_benchmark/GRCh37/HG002_GRCh37_CMRG_coordinates_temp_subtract_SVsgt49bp_repeatexpanded_slop50_merge1000.bed \\\n",
    "    -b data/manually_created_files/GRCh37_hifiasm_error.bed \\\n",
    "    > workflow/smallvar_benchmark/GRCh37/HG002_GRCh37_CMRG_coordinates_temp_subtract_hifiasm_error.bed"
   ],
   "outputs": [],
   "metadata": {}
  },
  {
   "cell_type": "markdown",
   "source": [
    "## Remove GRCh37 GAPs\n",
    "`GRCh37_MRG_GAPs.bed` was created through manual curation of clusters of errors identified during evaluation steps of benchmark development\n"
   ],
   "metadata": {}
  },
  {
   "cell_type": "code",
   "execution_count": null,
   "source": [
    "bedtools subtract \\\n",
    "    -a workflow/smallvar_benchmark/GRCh37/HG002_GRCh37_CMRG_coordinates_temp_subtract_hifiasm_error.bed \\\n",
    "    -b data/manually_created_files/GRCh37_MRG_GAPs.bed \\\n",
    "    > workflow/smallvar_benchmark/GRCh37/HG002_GRCh37_CMRG_coordinates_temp_subtract_GRCh37_MRG_GAPs.bed"
   ],
   "outputs": [],
   "metadata": {}
  },
  {
   "cell_type": "markdown",
   "source": [
    "## Sort"
   ],
   "metadata": {}
  },
  {
   "cell_type": "code",
   "execution_count": null,
   "source": [
    "cat workflow/smallvar_benchmark/GRCh37/HG002_GRCh37_CMRG_coordinates_temp_subtract_GRCh37_MRG_GAPs.bed \\\n",
    "    | sort -k1,1n -k2,2n \\\n",
    "    > workflow/smallvar_benchmark/GRCh37/HG002_GRCh37_CMRG_coordinates_temp_subtract_GRCh37_MRG_GAPs_sorted.bed"
   ],
   "outputs": [],
   "metadata": {}
  },
  {
   "cell_type": "markdown",
   "source": [
    "## Remove partially covered tandem repeats"
   ],
   "metadata": {}
  },
  {
   "cell_type": "code",
   "execution_count": null,
   "source": [
    "complementBed \\\n",
    "    -i workflow/smallvar_benchmark/GRCh37/HG002_GRCh37_CMRG_coordinates_temp_subtract_GRCh37_MRG_GAPs_sorted.bed \\\n",
    "    -g resources/human.b37.genome \\\n",
    "    | intersectBed \\\n",
    "        -wa -a resources/giab_stratifications/GRCh37_AllTandemRepeatsandHomopolymers_slop5.bed.gz \\\n",
    "        -b stdin \\\n",
    "    | subtractBed \\\n",
    "        -a workflow/smallvar_benchmark/GRCh37/HG002_GRCh37_CMRG_coordinates_temp_subtract_GRCh37_MRG_GAPs_sorted.bed \\\n",
    "        -b stdin \\\n",
    "    > workflow/smallvar_benchmark/GRCh37/HG002_GRCh37_CMRG_coordinates_temp_subtract_partial_tandem_repeats.bed"
   ],
   "outputs": [],
   "metadata": {}
  },
  {
   "cell_type": "markdown",
   "source": [
    "## Prepare benchmark VCF\n",
    "\n",
    "__Notes__\n",
    "1. `workflow/smallvar_benchmark/GRCh37/HG002_GRCh37_difficult_medical_gene_smallvar_benchmark.vcf.gz` is  https://ftp-trace.ncbi.nlm.nih.gov/ReferenceSamples/giab/data/AshkenazimTrio/analysis/NIST_HG002_medical_genes_benchmark_v0.02/GRCh37/HG002_GRCh37_difficult_medical_gene_smallvar_benchmark_v0.02.03.vcf.gz after updates to the headers\n",
    "\n",
    "2. `workflow/smallvar_benchmark/GRCh37/HG002_GRCh37_difficult_medical_gene_smallvar_benchmark.bed` is https://ftp-trace.ncbi.nlm.nih.gov/ReferenceSamples/giab/data/AshkenazimTrio/analysis/NIST_HG002_medical_genes_benchmark_v0.02/GRCh37/HG002_GRCh37_difficult_medical_gene_smallvar_benchmark_v0.02.03.bed"
   ],
   "metadata": {}
  },
  {
   "cell_type": "code",
   "execution_count": null,
   "source": [
    "cp workflow/smallvar_benchmark/GRCh37/HG002_GRCh37_CMRG_coordinates_temp_subtract_partial_tandem_repeats.bed \\\n",
    "    workflow/smallvar_benchmark/GRCh37/HG002_GRCh37_difficult_medical_gene_smallvar_benchmark.bed\n",
    "\n",
    "cat workflow/smallvar_benchmark/GRCh37/HG002_GRCh37_difficult_medical_gene_smallvar_benchmark.bed \\\n",
    "    | awk '{sum+=$3-$2} END {print sum}'\n",
    "\n",
    "bedtools intersect \\\n",
    "    -a data/hifiasm_dipcall_output/HG002v11-align2-GRCh37.dip.vcf.gz \\\n",
    "    -b workflow/smallvar_benchmark/GRCh37/HG002_GRCh37_CMRG_coordinates_temp_bedtools_merge.bed \\\n",
    "    -header \\\n",
    "    > workflow/smallvar_benchmark/GRCh37/HG002_GRCh37_difficult_medical_gene_smallvar_benchmark.vcf\n",
    "\n",
    "bgzip workflow/smallvar_benchmark/GRCh37/HG002_GRCh37_difficult_medical_gene_smallvar_benchmark.vcf\n",
    "\n",
    "tabix workflow/smallvar_benchmark/GRCh37/HG002_GRCh37_difficult_medical_gene_smallvar_benchmark.vcf.gz"
   ],
   "outputs": [],
   "metadata": {}
  },
  {
   "cell_type": "markdown",
   "source": [
    "## SV Benchmark"
   ],
   "metadata": {}
  },
  {
   "cell_type": "code",
   "execution_count": null,
   "source": [
    "# Find SVs MRG benchmark gene coordinates\n",
    "bedtools intersect \\\n",
    "    -a workflow/smallvar_benchmark/GRCh37/HG002v11-align2-GRCh37.dip_SVsgt49bp_repeatexpanded_slop50_merge1000.bed \\\n",
    "    -b workflow/smallvar_benchmark/GRCh37/HG002_GRCh37_CMRG_coordinates_temp_bedtools_merge.bed \\\n",
    "    > workflow/SV_benchmark/GRCh37/HG002v11-align2-GRCh37.dip_SVsgt49bp_repeatexpanded_slop50_merge1000_intersect_MRG_benchmark_coordinates.bed\n",
    "\n",
    "# Subset to SVs only gt49bp \n",
    "gunzip \\\n",
    "    -c data/hifiasm_dipcall_output/HG002v11-align2-GRCh37.dip.vcf.gz \\\n",
    "    | awk '{FS=\"\\t|,\"} {if($1 ~ /^#/ || length($4)-length($5)>49 || length($5)-length($4)>49 || length($6)-length($4)>49) print}' \\\n",
    "    | intersectBed \\\n",
    "        -a workflow/SV_benchmark/GRCh37/HG002v11-align2-GRCh37.dip_SVsgt49bp_repeatexpanded_slop50_merge1000_intersect_MRG_benchmark_coordinates.bed \\\n",
    "        -b stdin -c \\\n",
    "    | awk '$4>0' \\\n",
    "    | cut -f1-3 \\\n",
    "    > workflow/SV_benchmark/GRCh37/HG002v11-align2-GRCh37.dip_SVsgt49bp_repeatexpanded_slop50_merge1000_intersect_MRG_benchmark_coordinates_onlygt49bp.bed \n",
    "\n",
    "# Find isolated SVs  \n",
    "\n",
    "gunzip \\\n",
    "    -c data/hifiasm_dipcall_output/HG002v11-align2-GRCh37.dip.vcf.gz \\\n",
    "    | awk '{FS=\"\\t|,\"} {if($1 ~ /^#/ || length($4)-length($5)>9 || length($5)-length($4)>9 || length($6)-length($4)>9) print}' \\\n",
    "    | intersectBed -a workflow/SV_benchmark/GRCh37/HG002v11-align2-GRCh37.dip_SVsgt49bp_repeatexpanded_slop50_merge1000_intersect_MRG_benchmark_coordinates_onlygt49bp.bed \\\n",
    "    -b stdin -c \\\n",
    "    | awk '$4==1' \\\n",
    "    | cut -f1-3 \\\n",
    "    > workflow/SV_benchmark/GRCh37/HG002v11-align2-GRCh37.dip_SVsgt49bp_repeatexpanded_slop50_merge1000_intersect_MRG_benchmark_coordinates_onlygt49bp_isolated.bed \n",
    "\n",
    "# Find complex SVs  \n",
    "\n",
    "gunzip \\\n",
    "    -c data/hifiasm_dipcall_output/HG002v11-align2-GRCh37.dip.vcf.gz \\\n",
    "    | awk '{FS=\"\\t|,\"} {if($1 ~ /^#/ || length($4)-length($5)>9 || length($5)-length($4)>9 || length($6)-length($4)>9) print}' \\\n",
    "    | intersectBed \\\n",
    "        -a workflow/SV_benchmark/GRCh37/HG002v11-align2-GRCh37.dip_SVsgt49bp_repeatexpanded_slop50_merge1000_intersect_MRG_benchmark_coordinates_onlygt49bp.bed \\\n",
    "        -b stdin -c \\\n",
    "        | awk '$4>1' \\\n",
    "        | cut -f1-3 \\\n",
    "        > workflow/SV_benchmark/GRCh37/HG002v11-align2-GRCh37.dip_SVsgt49bp_repeatexpanded_slop50_merge1000_intersect_MRG_benchmark_coordinates_onlygt49bp_complexSVs.bed \n",
    "\n",
    "# Remove complex SVs from MRG gene candidate coordinates and remove GAPs \n",
    "bedtools subtract \\\n",
    "    -a workflow/smallvar_benchmark/GRCh37/HG002_GRCh37_CMRG_coordinates_temp_bedtools_merge.bed \\\n",
    "    -b workflow/SV_benchmark/GRCh37/HG002v11-align2-GRCh37.dip_SVsgt49bp_repeatexpanded_slop50_merge1000_intersect_MRG_benchmark_coordinates_onlygt49bp_complexSVs.bed \\\n",
    "    | bedtools subtract \\\n",
    "        -a stdin \n",
    "        -b  data/manually_created_files/GRCh37_MRG_GAPs.bed \\\n",
    "    > workflow/SV_benchmark/GRCh37/HG002_GRCh37_MRG_draft_SV_benchmark_temp.bed\n",
    "\n",
    "#HG002v11-align2-GRCh37.dip_complexindelsgt9bpinRepeats.bed  from the SV benchmark bed:\n",
    "# Find tandem repeats and homopolymers that have multiple indels >9bp, since these can add up to >49bp and should be subtracted from the benchmark SV bed\n",
    "gunzip \\\n",
    "    -c data/hifiasm_dipcall_output/HG002v11-align2-GRCh37.dip.vcf.gz \\\n",
    "    | awk '{FS=\"\\t|,\"} {if($1 ~ /^#/ || length($4)-length($5)>9 || length($5)-length($4)>9 || length($6)-length($4)>9) print}' \\\n",
    "    | intersectBed \\\n",
    "        -a resources/giab_stratifications/GRCh37_AllTandemRepeatsandHomopolymers_slop5.bed.gz \\\n",
    "        -b stdin -c \\\n",
    "    | awk '$4>1' \\\n",
    "    | cut -f1-3 \\\n",
    "    | intersectBed \\\n",
    "        -v -a stdin \\\n",
    "        -b workflow/SV_benchmark/GRCh37/HG002v11-align2-GRCh37.dip_SVsgt49bp_repeatexpanded_slop50_merge1000_intersect_MRG_benchmark_coordinates_onlygt49bp.bed \\\n",
    "        > workflow/SV_benchmark/GRCh37/HG002v11-align2-GRCh37.dip_complexindelsgt9bpinRepeats.bed\n",
    "\n",
    "bedtools subtract \\\n",
    "    -a workflow/SV_benchmark/GRCh37/HG002_GRCh37_MRG_draft_SV_benchmark_temp.bed \\\n",
    "    -b workflow/SV_benchmark/GRCh37/HG002v11-align2-GRCh37.dip_complexindelsgt9bpinRepeats.bed \\\n",
    "    > workflow/SV_benchmark/GRCh37/HG002_GRCh37_MRG_draft_SV_benchmark.bed\n",
    "\n",
    "cat workflow/SV_benchmark/GRCh37/HG002_GRCh37_MRG_draft_SV_benchmark.bed \\\n",
    "    | awk '{sum+=$3-$2} END {print sum}'\n",
    "\n",
    "# Decompose for truvari comparison\n",
    "#vt decompose -s HG002v11-align2-GRCh37.dip.vcf -o HG002v11-align2-GRCh37.dip_decomposed.vcf\n",
    "#python script to remove ambiguous (non-ACTGN) REF\n",
    "\n",
    "gunzip \\\n",
    "    -c data/hifiasm_dipcall_output/HG002v11-align2-GRCh37.dip.vcf.gz \\\n",
    "    > data/hifiasm_dipcall_output/HG002v11-align2-GRCh37.dip.vcf\n",
    "\n",
    "\n",
    "## remove ambiguous (non-ACGTN) in REF field. Adjust path to where you keep this file\n",
    "python scripts/fix_reference_allele.py \\\n",
    "    --input_vcf_file data/hifiasm_dipcall_output/HG002v11-align2-GRCh37.dip.vcf \\\n",
    "    --output_file workflow/SV_benchmark/GRCh37/HG002v11-align2-GRCh37._noambig.dip.vcf\n",
    "\n",
    "rm data/hifiasm_dipcall_output/HG002v11-align2-GRCh37.dip.vcf\n",
    "\n",
    "## zip for bcftools\n",
    "bgzip \\\n",
    "    -c workflow/SV_benchmark/GRCh37/HG002v11-align2-GRCh37._noambig.dip.vcf \\\n",
    "    > workflow/SV_benchmark/GRCh37/HG002v11-align2-GRCh37._noambig.dip.vcf.gz\n",
    "\n",
    "tabix workflow/SV_benchmark/GRCh37/HG002v11-align2-GRCh37._noambig.dip.vcf.gz\n",
    "\n",
    "## split multiallelic to biallelic\n",
    "bcftools norm -m- \\\n",
    "    -Oz workflow/SV_benchmark/GRCh37/HG002v11-align2-GRCh37._noambig.dip.vcf.gz \\\n",
    "    -o workflow/SV_benchmark/GRCh37/HG002v11-align2-GRCh37._noambig_norm_m.vcf.gz\n",
    "\n",
    "## left align and normalize indels. \n",
    "bcftools norm \\\n",
    "    -f resources/hs37d5.fa \\\n",
    "    -Oz -o workflow/SV_benchmark/GRCh37/HG002v11-align2-GRCh37._noambig_norm_mf.vcf.gz \\\n",
    "    workflow/SV_benchmark/GRCh37/HG002v11-align2-GRCh37._noambig_norm_m.vcf.gz\n",
    "\n",
    "## remove duplicate records\n",
    "bcftools norm -d none \\\n",
    "    -Oz workflow/SV_benchmark/GRCh37/HG002v11-align2-GRCh37._noambig_norm_mf.vcf.gz \\\n",
    "    -o workflow/SV_benchmark/GRCh37/HG002v11-align2-GRCh37._noambig_norm_mfd.vcf.gz\n",
    "\n",
    "## remove MHC region\n",
    "bedtools subtract \\\n",
    "    -header -a workflow/SV_benchmark/GRCh37/HG002v11-align2-GRCh37._noambig_norm_mfd.vcf.gz \\\n",
    "    -b resources//giab_stratifications/GRCh37_MHC.bed.gz \\\n",
    "    | bgzip -c \\\n",
    "    > workflow/SV_benchmark/GRCh37/HG002v11-align2-GRCh37._noambig_norm_mfd_noMHC.vcf.gz\n",
    "\n",
    "## intersect w/ benchmark bed and subset to >39bp in REF or ALT fields. \n",
    "#intersect w/ MRG target regions and subset >39 bp\n",
    "\n",
    "bedtools intersect -header \\\n",
    "    -a workflow/SV_benchmark/GRCh37/HG002v11-align2-GRCh37._noambig_norm_mfd_noMHC.vcf.gz \\\n",
    "    -b workflow/SV_benchmark/GRCh37/HG002_GRCh37_MRG_draft_SV_benchmark.bed \\\n",
    "    | awk '$1 ~ /^#/ || length($4)>39 || length($5)>39' \\\n",
    "    | bgzip -c \\\n",
    "    > workflow/SV_benchmark/GRCh37/HG002v11-align2-GRCh37._noambig_norm_mfd_noMHC_intersectBenchBED_gt39bp.vcf.gz\n",
    "\n",
    "## index vcf, required by truvari\n",
    "tabix -p vcf workflow/SV_benchmark/GRCh37/HG002v11-align2-GRCh37._noambig_norm_mfd_noMHC_intersectBenchBED_gt39bp.vcf.gz\n",
    "\n",
    "\n",
    "## Find benchmark variants between 35 and 49 base pairs in size and exclude overlapping tandem repeats plus slop 50bp on either side. Remove these from the benchmark regions bed so that it includes only SVs that are greater than 49 base pairs\n",
    "\n",
    "python scripts/SVs_between_35_50bp.py \\\n",
    "    --input workflow/SV_benchmark/GRCh37/HG002v11-align2-GRCh37._noambig_norm_mfd_noMHC_intersectBenchBED_gt39bp.vcf \\\n",
    "    --output workflow/SV_benchmark/GRCh37/HG002_GRCh37_difficult_medical_gene_SV_benchmark_v0.01.02_SVs_gt34_and_lt_50bp.vcf\n",
    "\n",
    "# needs to be run in bedops_env\n",
    "vcf2bed < workflow/SV_benchmark/GRCh37/HG002_GRCh37_difficult_medical_gene_SV_benchmark_v0.01.02_SVs_gt34_and_lt_50bp.vcf \\\n",
    "    > workflow/SV_benchmark/GRCh37/HG002_GRCh37_difficult_medical_gene_SV_benchmark_v0.01.02_SVs_gt34_and_lt_50bp.bed\n",
    "\n",
    "intersectBed -wa \\\n",
    "    -a resources/giab_stratifications/GRCh37_AllTandemRepeatsandHomopolymers_slop5.bed.gz \\\n",
    "    -b workflow/SV_benchmark/GRCh37/HG002_GRCh37_difficult_medical_gene_SV_benchmark_v0.01.02_SVs_gt34_and_lt_50bp.bed \\\n",
    "    | multiIntersectBed \\\n",
    "        -i stdin workflow/SV_benchmark/GRCh37/HG002_GRCh37_difficult_medical_gene_SV_benchmark_v0.01.02_SVs_gt34_and_lt_50bp.bed \\\n",
    "    |  awk '{FS=OFS=\"\\t\"} {print $1,$2-50,$3+50}' \\\n",
    "    > workflow/SV_benchmark/GRCh37/HG002_GRCh37_difficult_medical_gene_SV_benchmark_v0.01.02_gt34_and_lt_50bp_repeatexpanded_slop50.bed\n",
    "\n",
    "\n",
    "\n",
    "bedtools subtract \\\n",
    "    -a workflow/SV_benchmark/GRCh37/HG002_GRCh37_MRG_draft_SV_benchmark.bed \\\n",
    "    -b workflow/SV_benchmark/GRCh37/HG002_GRCh37_difficult_medical_gene_SV_benchmark_v0.01.02_gt34_and_lt_50bp_repeatexpanded_slop50.bed \\\n",
    "    > workflow/SV_benchmark/GRCh37/HG002_GRCh37_difficult_medical_gene_SV_benchmark_v0.01.bed\n"
   ],
   "outputs": [],
   "metadata": {}
  },
  {
   "cell_type": "markdown",
   "source": [
    "## Prepare release benchmark files\n",
    "\n",
    "Steps for creating excluding errors found in curation of the MRG benchmark, in order to create v1.0 bed files for small variants and SVs  \n",
    "\n",
    "Updated 4/27/21 to exclude 50bp on either side of errors and unsure variants found in curation, because sometimes a deletion and overlapping SNVs outside a repeat weren't excluded from benchmark stats. Also, remove \".;\" at beginning of INFO field introduced by svanalyzer svwiden. Produces v1.00.01 small variant and structural variant MRG benchmarks\n"
   ],
   "metadata": {}
  },
  {
   "cell_type": "code",
   "execution_count": null,
   "source": [
    "##errors to exclude found in curation of SVs\n",
    "#only found 2 errors so manually created bed GRCh37_curation_medicalgene_SV_errorsorunsure.bed\n",
    "#expand bed coordinates to completely cover any overlapping homopolymers and tandem repeats\n",
    "intersectBed -wa \\\n",
    "    -a resources/giab_stratifications/GRCh37_AllTandemRepeatsandHomopolymers_slop5.bed.gz \\\n",
    "    -b data/manually_created_files/GRCh37_curation_medicalgene_SV_errorsorunsure.bed \\\n",
    "    | multiIntersectBed -i stdin data/manually_created_files/GRCh37_curation_medicalgene_SV_errorsorunsure.bed \\\n",
    "    | mergeBed -i stdin \\\n",
    "    > workflow/release_benchmark_generation/GRCh37_curation_medicalgene_SV_errorsorunsure_repeatexpanded.bed\n",
    "\n",
    "#used NCBI remap to generate GRCh38_curation_medicalgene_SV_errorsorunsure_repeatexpanded.bed\n",
    "\n",
    "\n",
    "#create bed with sites curated as unsure or incorrect in the benchmark in GRCh37 coordinates\n",
    "cut -f3,6,8,12,20 \\\n",
    "    data/manually_created_files/combined\\ curation\\ responses\\ from\\ benchmarking\\ with\\ sm\\ variant\\ v0.02.03\\ -\\ GRCh37andGRCh38.tsv \\\n",
    "    | grep 'sure\\|o' \\\n",
    "    | grep -v ^ref \\\n",
    "    | awk '{FS=OFS=\"\\t\"} {print $2, $3-50, $3+length($4)+50}' \\\n",
    "    | sort -k1,1n -k2,2n -k3,3n \\\n",
    "    | mergeBed -i stdin -d 100 \\\n",
    "    > workflow/release_benchmark_generation/GRCh37_curation_medicalgene_smallvar_errorsorunsure.bed\n",
    "\n",
    "intersectBed -wa \\\n",
    "    -a resources/giab_stratifications/GRCh37_AllTandemRepeatsandHomopolymers_slop5.bed.gz \\\n",
    "    -b workflow/release_benchmark_generation/GRCh37_curation_medicalgene_smallvar_errorsorunsure.bed \\\n",
    "    | multiIntersectBed \\\n",
    "        -i stdin workflow/release_benchmark_generation/GRCh37_curation_medicalgene_smallvar_errorsorunsure.bed \\\n",
    "    | mergeBed -i stdin \\\n",
    "    > workflow/release_benchmark_generation/GRCh37_curation_medicalgene_smallvar_errorsorunsure_repeatexpanded.bed\n",
    "\n",
    "cd data/manually_created_files/\n",
    "##for manuscript, identify number of errors/unsure identified in curation and the number of these that would have been excluded by curating common FPs/FNs first\n",
    "#create bed with sites curated as unsure or incorrect in the benchmark in GRCh37 coordinates\n",
    "grep ^Common combined\\ curation\\ responses\\ from\\ benchmarking\\ with\\ sm\\ variant\\ v0.02.03\\ -\\ GRCh37andGRCh38.tsv \\\n",
    "    | cut -f3,6,8,12,20 \\\n",
    "    | grep 'sure\\|o' \\\n",
    "    | grep -v ^ref \\\n",
    "    | awk '{FS=OFS=\"\\t\"} {print $2, $3-50, $3+length($4)+50}' \\\n",
    "    | sort -k1,1n -k2,2n -k3,3n \\\n",
    "    | mergeBed -i stdin -d 100 \\\n",
    "    > ../../workflow/release_benchmark_generation/GRCh37_curation_medicalgene_smallvar_errorsorunsure_Commononly.bed\n",
    "\n",
    "grep -v ^Common combined\\ curation\\ responses\\ from\\ benchmarking\\ with\\ sm\\ variant\\ v0.02.03\\ -\\ GRCh37andGRCh38.tsv \\\n",
    "    | cut -f3,6,8,12,20 \\\n",
    "    | grep 'sure\\|o' \\\n",
    "    | grep -v ^ref \\\n",
    "    | grep ^GRCh37 \\\n",
    "    | awk '{FS=OFS=\"\\t\"} {print $2, $3-50, $3+length($4)+50}' \\\n",
    "    | sort -k1,1n -k2,2n -k3,3n  \\\n",
    "    > ../../workflow/release_benchmark_generation/GRCh37_curation_medicalgene_smallvar_errorsorunsure_evaluationonly.bed\n",
    "\n",
    "cd ../..\n",
    "\n",
    "wc -l workflow/release_benchmark_generation/GRCh37_curation_medicalgene_smallvar_errorsorunsure_evaluationonly.bed\n",
    "#      50\n",
    "\n",
    "\n",
    "#expand bed coordinates to completely cover any overlapping homopolymers and tandem repeats\n",
    "intersectBed -wa \\\n",
    "    -a resources/giab_stratifications/GRCh37_AllTandemRepeatsandHomopolymers_slop5.bed.gz \\\n",
    "    -b workflow/release_benchmark_generation/GRCh37_curation_medicalgene_smallvar_errorsorunsure_Commononly.bed \\\n",
    "    | multiIntersectBed \\\n",
    "        -i stdin workflow/release_benchmark_generation/GRCh37_curation_medicalgene_smallvar_errorsorunsure_Commononly.bed \\\n",
    "    | mergeBed -i stdin \\\n",
    "    | intersectBed -v \\\n",
    "        -a workflow/release_benchmark_generation/GRCh37_curation_medicalgene_smallvar_errorsorunsure_evaluationonly.bed \\\n",
    "        -b stdin \\\n",
    "    | wc -l\n",
    "# 6\n",
    "\n",
    "#download GRCh37 v0.02.03 from https://ftp-trace.ncbi.nlm.nih.gov/giab/ftp/data/AshkenazimTrio/analysis/NIST_HG002_medical_genes_benchmark_v0.02/GRCh37/HG002_GRCh37_difficult_medical_gene_smallvar_benchmark_v0.02.03.bed\n",
    "#exclude errors/unsure sites found in SV curation, small variant curation, small variant complex TR curation, and FPs from complex TR comparison\n",
    "subtractBed \\\n",
    "        -a data/manually_created_files/cmrg_draft_benchmarks/HG002_GRCh37_difficult_medical_gene_smallvar_benchmark_v0.02.03.bed \\\n",
    "        -b workflow/release_benchmark_generation/GRCh37_curation_medicalgene_SV_errorsorunsure_repeatexpanded.bed \\\n",
    "    | subtractBed \\\n",
    "        -a stdin \\\n",
    "        -b workflow/release_benchmark_generation/GRCh37_curation_medicalgene_smallvar_errorsorunsure_repeatexpanded.bed \\\n",
    "    | subtractBed \\\n",
    "        -a stdin \\\n",
    "        -b data/manually_created_files/GRCh37_curation_medicalgene_smallvar_complexrepeat_errorsorunsure_repeatexpanded.bed \\\n",
    "    | subtractBed \\\n",
    "        -a stdin \\\n",
    "        -b data/manually_created_files/HiCanu_2.1_HG002_GRCh37_difficult_medical_gene_smallvar_benchmark_v0.02.03_intersected_FPs_repeatexpanded_slop50.bed \\\n",
    "        > workflow/release_benchmark_generation/HG002_GRCh37_difficult_medical_gene_smallvar_benchmark_v1.00.01.bed\n",
    "\n",
    "#Make sure the bed size doesn't decrease more than expected\n",
    "awk '{sum+=$3-$2} END {print sum}' \\\n",
    "    data/manually_created_files/cmrg_draft_benchmarks/HG002_GRCh37_difficult_medical_gene_smallvar_benchmark_v0.02.03.bed \n",
    "#11712171\n",
    "awk '{sum+=$3-$2} END {print sum}' \\\n",
    "    workflow/release_benchmark_generation/HG002_GRCh37_difficult_medical_gene_smallvar_benchmark_v1.00.01.bed \n",
    "#11679803\n",
    "\n",
    "#Make sure the number of variants in the bed don't decrease more than expected\n",
    "intersectBed -a data/manually_created_files/cmrg_draft_benchmarks/HG002_GRCh37_difficult_medical_gene_smallvar_benchmark_v0.02.03.vcf.gz \\\n",
    "    -b data/manually_created_files/cmrg_draft_benchmarks/HG002_GRCh37_difficult_medical_gene_smallvar_benchmark_v0.02.03.bed | wc -l\n",
    "#21907\n",
    "intersectBed -a data/manually_created_files/cmrg_draft_benchmarks/HG002_GRCh37_difficult_medical_gene_smallvar_benchmark_v0.02.03.vcf.gz \\\n",
    "    -b workflow/release_benchmark_generation/HG002_GRCh37_difficult_medical_gene_smallvar_benchmark_v0.03.00.bed | wc -l\n",
    "#21664\n",
    "intersectBed -a data/manually_created_files/cmrg_draft_benchmarks/HG002_GRCh37_difficult_medical_gene_smallvar_benchmark_v0.02.03.vcf.gz \\\n",
    "    -b workflow/release_benchmark_generation/HG002_GRCh37_difficult_medical_gene_smallvar_benchmark_v1.00.01.bed | wc -l\n",
    "#21591\n",
    "\n",
    "cp data/manually_created_files/cmrg_draft_benchmarks/HG002_GRCh37_difficult_medical_gene_smallvar_benchmark_v0.02.03.vcf.gz \\\n",
    "    workflow/release_benchmark_generation/HG002_GRCh37_difficult_medical_gene_smallvar_benchmark_v1.00.01.vcf.gz \n",
    "cp data/manually_created_files/cmrg_draft_benchmarks/HG002_GRCh37_difficult_medical_gene_smallvar_benchmark_v0.02.03.vcf.gz.tbi \\\n",
    "    workflow/release_benchmark_generation/HG002_GRCh37_difficult_medical_gene_smallvar_benchmark_v1.00.01.vcf.gz.tbi\n",
    "\n",
    "#download GRCh37 v0.01 bed from https://ftp-trace.ncbi.nlm.nih.gov/giab/ftp/data/AshkenazimTrio/analysis/NIST_HG002_medical_genes_SV_benchmark_v0.01/HG002_GRCh37_difficult_medical_gene_SV_benchmark_v0.01.bed\n",
    "#exclude errors/unsure sites found in SV curation\n",
    "subtractBed \\\n",
    "    -a data/manually_created_files/cmrg_draft_benchmarks/HG002_GRCh37_difficult_medical_gene_SV_benchmark_v0.01.bed \\\n",
    "    -b workflow/release_benchmark_generation/GRCh37_curation_medicalgene_SV_errorsorunsure_repeatexpanded.bed \\\n",
    "    > workflow/release_benchmark_generation/HG002_GRCh37_difficult_medical_gene_SV_benchmark_v0.02.00.bed\n",
    "\n",
    "#Make sure the bed size doesn't decrease more than expected\n",
    "awk '{sum+=$3-$2} END {print sum}' \\\n",
    "    data/manually_created_files/cmrg_draft_benchmarks/HG002_GRCh37_difficult_medical_gene_SV_benchmark_v0.01.bed \n",
    "#11966919\n",
    "awk '{sum+=$3-$2} END {print sum}' \\\n",
    "    workflow/release_benchmark_generation/HG002_GRCh37_difficult_medical_gene_SV_benchmark_v0.02.00.bed \n",
    "#11966249\n",
    "\n",
    "#Make sure the number of variants in the bed don't decrease more than expected\n",
    "intersectBed \\\n",
    "    -a data/manually_created_files/cmrg_draft_benchmarks/HG002_GRCh37_difficult_medical_gene_SV_benchmark_v0.01.vcf.gz \\\n",
    "    -b data/manually_created_files/cmrg_draft_benchmarks/HG002_GRCh37_difficult_medical_gene_SV_benchmark_v0.01.bed \\\n",
    "    | wc -l\n",
    "#205\n",
    "\n",
    "intersectBed \n",
    "    -a data/manually_created_files/cmrg_draft_benchmarks/HG002_GRCh37_difficult_medical_gene_SV_benchmark_v0.01.vcf.gz \\\n",
    "    -b workflow/release_benchmark_generation/HG002_GRCh37_difficult_medical_gene_SV_benchmark_v0.02.00.bed \\\n",
    "    | wc -l\n",
    "#204\n",
    "\n",
    "cp data/manually_created_files/cmrg_draft_benchmarks/HG002_GRCh37_difficult_medical_gene_SV_benchmark_v0.01.vcf.gz \\\n",
    "    workflow/release_benchmark_generation/HG002_GRCh37_difficult_medical_gene_SV_benchmark_v0.02.00.vcf.gz \n",
    "cp data/manually_created_files/cmrg_draft_benchmarks/HG002_GRCh37_difficult_medical_gene_SV_benchmark_v0.01.vcf.gz.tbi \\\n",
    "    workflow/release_benchmark_generation/HG002_GRCh37_difficult_medical_gene_SV_benchmark_v0.02.00.vcf.gz.tbi \n",
    "\n",
    "#remove \".;\" at beginning of INFO field introduced by svanalyzer svwiden\n",
    "gunzip -c workflow/release_benchmark_generation/HG002_GRCh37_difficult_medical_gene_SV_benchmark_v0.02.00.vcf.gz \\\n",
    "    | sed 's/\\.;REPTYPE/REPTYPE/' \\\n",
    "    | bgzip -c \n",
    "    > workflow/release_benchmark_generation/HG002_GRCh37_difficult_medical_gene_SV_benchmark_v1.00.01.vcf.gz\n",
    "\n",
    "tabix workflow/release_benchmark_generation/HG002_GRCh37_difficult_medical_gene_SV_benchmark_v1.00.01.vcf.gz\n",
    "\n",
    "cp workflow/release_benchmark_generation/HG002_GRCh37_difficult_medical_gene_SV_benchmark_v0.02.00.bed \\\n",
    "    workflow/release_benchmark_generation/HG002_GRCh37_difficult_medical_gene_SV_benchmark_v1.00.01.bed \n"
   ],
   "outputs": [],
   "metadata": {}
  },
  {
   "cell_type": "markdown",
   "source": [
    "## Generate stratification files for Complex Variants in Tandem Repeats\n",
    "\n",
    "`HG002v11-align2-GRCh37.dip.vcf` is from https://drive.google.com/drive/folders/1gUCmveutqniwPN8aZW-gzumrWsMHQdnb\n",
    "`GRCh37_AllTandemRepeats_gt100bp_slop5.bed` is from https://ftp-trace.ncbi.nlm.nih.gov/ReferenceSamples/giab/release/genome-stratifications/v2.0/GRCh37/LowComplexity/GRCh37_AllTandemRepeats_gt100bp_slop5.bed.gz\n",
    "\n"
   ],
   "metadata": {}
  },
  {
   "cell_type": "code",
   "execution_count": null,
   "source": [
    "bedtools intersect -c \\\n",
    "    -a GRCh37_AllTandemRepeats_gt100bp_slop5.bed \\\n",
    "    -b HG002v11-align2-GRCh37.dip.vcf \\\n",
    "    | awk '$4>1' \\\n",
    "    > HG002_GRCh37_MRG_stratification_ComplexVar_in_TR.bed"
   ],
   "outputs": [],
   "metadata": {}
  },
  {
   "cell_type": "markdown",
   "source": [
    "### Software versions\n",
    "\n",
    "Python 2.7.15 |Anaconda, Inc.| (default, Nov 13 2018, 17:07:45)   \n",
    "bedtools v2.27.1  \n",
    "tabix (htslib) 1.7  \n",
    "bgzip (htslib) 1.7  \n"
   ],
   "metadata": {}
  }
 ],
 "metadata": {
  "kernelspec": {
   "display_name": "Bash",
   "language": "bash",
   "name": "bash"
  },
  "language_info": {
   "codemirror_mode": "shell",
   "file_extension": ".sh",
   "mimetype": "text/x-sh",
   "name": "bash"
  }
 },
 "nbformat": 4,
 "nbformat_minor": 2
}